{
  "nbformat": 4,
  "nbformat_minor": 0,
  "metadata": {
    "colab": {
      "private_outputs": true,
      "provenance": [],
      "authorship_tag": "ABX9TyMmiKW7AnEIlq4EMhdOTnAT",
      "include_colab_link": true
    },
    "kernelspec": {
      "name": "python3",
      "display_name": "Python 3"
    },
    "language_info": {
      "name": "python"
    }
  },
  "cells": [
    {
      "cell_type": "markdown",
      "metadata": {
        "id": "view-in-github",
        "colab_type": "text"
      },
      "source": [
        "<a href=\"https://colab.research.google.com/github/carolineoliveira994/100-days-of-code-python/blob/main/association_rules.ipynb\" target=\"_parent\"><img src=\"https://colab.research.google.com/assets/colab-badge.svg\" alt=\"Open In Colab\"/></a>"
      ]
    },
    {
      "cell_type": "markdown",
      "source": [
        "regras de associação: conjunto de tecnicas para analisar dados transacionais com objetivo de encontrar regras, associaes, correlações e padroes frenquentes, e elas vao obdecer a uma medida de interesse, exemplo: compras que clientes fizeram em determinado mercado, marketing\n",
        "\n",
        "\\z regras podem ser representadas com conjutnos de itens presentes em muitas transações chamadas freuqent itemstest\n",
        "\n",
        "geralmete possuem o formato SE/ENTÃO\n",
        "\n",
        "*   SE: antecede ENTÃO: consequente (efeito)\n",
        "\n",
        "market basket analysis\n",
        "\n",
        "*   objetivo e descobrir associações enttre itens;\n",
        "*   descobrir padrões em grandes quantidades de dados\n",
        "avaliar padroes descobertos\n",
        "\n",
        "alguns podem ser \"correlações espúrias\" (quando um relação estatisticas  existe entre duas variaveis mas onde nao existe nenhuma relacao causa-efeito, por pura coincidencia ou por causa de uma terceira variavel)\n",
        "alguns padroes podem ser mais interessantes do que outros\n",
        "\n",
        "1. quero descobrir padrões\n",
        "2. quero avaliar\n",
        "3. quero saber dentro dessas regras descobertas, quaisd fazem mais sentido ou não e depois como derivo regras uteis\n",
        "\n",
        "suporte = numero transações iten/itens / número total de transações\n",
        "\n",
        "ajuda identificar wuis regras devemos considerar para uma anlisa posterior\n",
        "podemos considerar que nao temos informaçõe suficiente sobre o mesmo e que poucas consluoes poidem ser obtidas\n",
        "\n",
        "suporte absoluto support count, frequency ou count\n",
        "\n",
        "suporte relativo percentual de trnsações\n",
        "\n",
        "\n",
        "confiança\n",
        "\n",
        "Métrica que determina quão frequentemente itens em y aparecem em transações que contém X;\n",
        "medir a confiança que uma regra expressa;\n",
        "prove uma estimativa da probalidade condicional P(Y)|(X)\n",
        "\n",
        "preparação dos dados\n",
        "\n",
        "\n"
      ],
      "metadata": {
        "id": "uXO8qwRUvQsO"
      }
    },
    {
      "cell_type": "code",
      "execution_count": null,
      "metadata": {
        "id": "F2WNtUFovPwp"
      },
      "outputs": [],
      "source": [
        "import numpy as np\n",
        "import pandas as pd\n",
        "import matplotlib.pyplot as plt\n",
        "import seaborn as sns\n",
        "\n",
        "from mlxtend.preprocessing import TransactionEncoder"
      ]
    },
    {
      "cell_type": "code",
      "source": [],
      "metadata": {
        "id": "4U_pA75i5NcQ"
      },
      "execution_count": null,
      "outputs": []
    },
    {
      "cell_type": "markdown",
      "source": [
        "criar base de dados de exemplo"
      ],
      "metadata": {
        "id": "mquQLCGw4S9j"
      }
    },
    {
      "cell_type": "code",
      "source": [
        "dataset = [['Bread','Milk'],\n",
        "           ['Bread', 'Milk', 'Eggs'],\n",
        "           ['Milk', 'Beer', 'Bread'],\n",
        "           ['Cola', 'Milk', 'Bread'],\n",
        "           ['Milk', 'Diapers']]"
      ],
      "metadata": {
        "id": "1E6I7STd5LJI"
      },
      "execution_count": null,
      "outputs": []
    },
    {
      "cell_type": "markdown",
      "source": [
        "tranformar transações"
      ],
      "metadata": {
        "id": "kFju6j3Q5SJb"
      }
    },
    {
      "cell_type": "code",
      "source": [
        "te = TransactionEncoder()\n",
        "te.fit(dataset)\n"
      ],
      "metadata": {
        "id": "hH0ZS2uq5QBR"
      },
      "execution_count": null,
      "outputs": []
    },
    {
      "cell_type": "code",
      "source": [
        "dataset_encoded = te.transform(dataset)\n",
        "dataset_encoded"
      ],
      "metadata": {
        "id": "-xOeolUS5n0s"
      },
      "execution_count": null,
      "outputs": []
    },
    {
      "cell_type": "code",
      "source": [
        "dataset_encoded.astype(int)\n"
      ],
      "metadata": {
        "id": "q_5KCBDz50-s"
      },
      "execution_count": null,
      "outputs": []
    },
    {
      "cell_type": "code",
      "source": [
        "te.columns_"
      ],
      "metadata": {
        "id": "favJnYxi59tK"
      },
      "execution_count": null,
      "outputs": []
    },
    {
      "cell_type": "code",
      "source": [
        "te.columns_mapping_"
      ],
      "metadata": {
        "id": "jY3bq-oP6B4V"
      },
      "execution_count": null,
      "outputs": []
    },
    {
      "cell_type": "code",
      "source": [
        "df = pd.DataFrame(dataset_encoded, columns=te.columns_)\n",
        "df"
      ],
      "metadata": {
        "id": "4SMtjoPY6G39"
      },
      "execution_count": null,
      "outputs": []
    },
    {
      "cell_type": "code",
      "source": [
        "df = pd.DataFrame(dataset_encoded, columns=te.columns_)\n",
        "df"
      ],
      "metadata": {
        "id": "TlUPM6h76lJK"
      },
      "execution_count": null,
      "outputs": []
    },
    {
      "cell_type": "code",
      "source": [
        "beer_support = df['Beer'].mean()\n",
        "print('Support of beer:', beer_support)"
      ],
      "metadata": {
        "id": "xiWlZmUd6xj1"
      },
      "execution_count": null,
      "outputs": []
    },
    {
      "cell_type": "code",
      "source": [
        "milk_support = df['Milk'].mean()\n",
        "print('Support of milk:', milk_support)"
      ],
      "metadata": {
        "id": "w48xu3FI7TAo"
      },
      "execution_count": null,
      "outputs": []
    },
    {
      "cell_type": "code",
      "source": [
        "milk_beer_support = np.logical_and(df['Milk'], df['Beer']).mean()\n",
        "print('Support of milk and beer:', milk_beer_support)\n"
      ],
      "metadata": {
        "id": "95jzGPy17aSf"
      },
      "execution_count": null,
      "outputs": []
    },
    {
      "cell_type": "code",
      "source": [
        "milk_bread_support = np.logical_and(df['Milk'], df['Bread']).mean()\n",
        "print('Support of milk and bread:', milk_bread_support)"
      ],
      "metadata": {
        "id": "2yPn475v8Wg-"
      },
      "execution_count": null,
      "outputs": []
    },
    {
      "cell_type": "code",
      "source": [
        "milk_support = df['Milk'].mean()\n",
        "milk_bread_support = np.logical_and(df['Milk'], df['Bread']).mean()\n",
        "milk_bread_confidence = milk_bread_support / milk_support\n",
        "print('Milk to Bread confidence:', milk_bread_confidence)"
      ],
      "metadata": {
        "id": "037RfkP4_Cwh"
      },
      "execution_count": null,
      "outputs": []
    },
    {
      "cell_type": "code",
      "source": [
        "bread_support = df['Bread'].mean()\n",
        "milk_bread_support = np.logical_and(df['Bread'], df['Milk']).mean()\n",
        "milk_bread_confidence = milk_bread_support / bread_support\n",
        "print('Bread to Milk confidence:', milk_bread_confidence)"
      ],
      "metadata": {
        "id": "dZDKZINK_dkv"
      },
      "execution_count": null,
      "outputs": []
    },
    {
      "cell_type": "markdown",
      "source": [
        "dado um conjunto de transações, encontrar todas as regras que possuem:\n",
        "\n",
        "*   suporte maior ou giual a um determinado limiar de suporte e\n",
        "*   confiança maior ou igual a um determinado limiar de confiança\n",
        "\n",
        "desafios\n",
        "\n",
        "se ultlizar força bruta que seria computar o suporte e a confiança para casa regra possivel, ele crersce de forma expontecial nao da\n",
        "\n",
        "\n",
        "quebra a parte de avaliação do suporte e da confiança em passos separados\n",
        "geração de item sets frequentes\n",
        "encontrar todos os itemsets que tenham suporte maior ou igual ao limiar de suporte estaabelecido\n",
        "geração de regras\n",
        "extrair iotemsets frequentes todas as regras com alta confiança.\n",
        "\n"
      ],
      "metadata": {
        "id": "82XM01BT_6y3"
      }
    }
  ]
}