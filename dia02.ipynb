{
  "nbformat": 4,
  "nbformat_minor": 0,
  "metadata": {
    "colab": {
      "private_outputs": true,
      "provenance": [],
      "authorship_tag": "ABX9TyOm7NdVQewgs8x8JOS1W/+8",
      "include_colab_link": true
    },
    "kernelspec": {
      "name": "python3",
      "display_name": "Python 3"
    },
    "language_info": {
      "name": "python"
    }
  },
  "cells": [
    {
      "cell_type": "markdown",
      "metadata": {
        "id": "view-in-github",
        "colab_type": "text"
      },
      "source": [
        "<a href=\"https://colab.research.google.com/github/carolineoliveira994/100-days-of-code-python/blob/main/dia02.ipynb\" target=\"_parent\"><img src=\"https://colab.research.google.com/assets/colab-badge.svg\" alt=\"Open In Colab\"/></a>"
      ]
    },
    {
      "cell_type": "markdown",
      "source": [
        "Conditions and Conditional Statements"
      ],
      "metadata": {
        "id": "_NHgplniOWnR"
      }
    },
    {
      "cell_type": "code",
      "execution_count": null,
      "metadata": {
        "id": "eWn0hITbOM1c"
      },
      "outputs": [],
      "source": [
        "def get_grade(score):\n",
        "    if score >= 90:\n",
        "        grade = \"A\"\n",
        "    elif score >= 80:\n",
        "        grade = \"B\"\n",
        "    elif score >= 70:\n",
        "        grade = \"C\"\n",
        "    elif score >= 60:\n",
        "        grade = \"D\"\n",
        "    else:\n",
        "        grade = \"F\"\n",
        "    return grade"
      ]
    },
    {
      "cell_type": "code",
      "source": [
        "def cost_of_project(engraving, solid_gold):\n",
        "    num_units = len(engraving)\n",
        "    if solid_gold == True:\n",
        "        cost = 100 + 10 * num_units\n",
        "    else:\n",
        "        cost = 50 + 7 * num_units\n",
        "    return cost"
      ],
      "metadata": {
        "id": "XLj4gNSmOjFt"
      },
      "execution_count": null,
      "outputs": []
    },
    {
      "cell_type": "code",
      "source": [
        "def get_water_bill(num_gallons):\n",
        "    if num_gallons <= 8000:\n",
        "        bill = 5 * num_gallons / 1000\n",
        "    elif num_gallons <= 22000:\n",
        "        bill = 6 * num_gallons / 1000\n",
        "    elif num_gallons <= 30000:\n",
        "        bill = 7 * num_gallons / 1000\n",
        "    else:\n",
        "        bill = 10 * num_gallons / 1000\n",
        "    return bill"
      ],
      "metadata": {
        "id": "G5MnUpQKQiri"
      },
      "execution_count": null,
      "outputs": []
    },
    {
      "cell_type": "code",
      "source": [
        "get_water_bill(1)"
      ],
      "metadata": {
        "id": "AjIKzpt0Qiju"
      },
      "execution_count": null,
      "outputs": []
    },
    {
      "cell_type": "markdown",
      "source": [
        "# Question 4\n",
        "\n",
        "You work for a company that provides data services.  For \\\\$100/month, your company provides 15 gigabytes (GB) of data.  Then, any additional data is billed at \\\\$0.10/MB (or \\\\$100/GB, since 1,000 MB are in 1 GB).\n",
        "\n",
        "Use the next code cell to write a function `get_phone_bill()` that takes as input:\n",
        "- `gb` = number of GB that the customer used in a month\n",
        "\n",
        "It should return the customer's total phone bill.\n",
        "\n",
        "For instance:\n",
        "- A customer who uses 10 GB of data in one month is billed only \\\\$100, since the usage stayed under 15 GB.  In other words, `get_phone_bill(10)` should return `100`.\n",
        "- A customer who uses 15.1 GB (or 15 GB + 100 MB) of data in one month has gone over by .1 GB, so they must pay \\\\$100 (cost of plan), plus \\\\$0.10 * 100 = \\\\$10, for a total bill of \\\\$110.  In other words, `get_phone_bill(15.1)` should return `110`.\n",
        "\n",
        "Do not round your answer."
      ],
      "metadata": {
        "id": "GSDO0nIBQ0U6"
      }
    },
    {
      "cell_type": "code",
      "source": [
        "def get_phone_bill(gb):\n",
        "    if gb <= 15:\n",
        "        bill = 100\n",
        "    else:\n",
        "        bill = 100 + (gb - 15) * 100\n",
        "    return bill\n"
      ],
      "metadata": {
        "id": "BlhlHxJgQ738"
      },
      "execution_count": null,
      "outputs": []
    },
    {
      "cell_type": "code",
      "source": [
        "get_phone_bill(18)"
      ],
      "metadata": {
        "id": "_obqFSs1T_oI"
      },
      "execution_count": null,
      "outputs": []
    },
    {
      "cell_type": "markdown",
      "source": [
        "Lists"
      ],
      "metadata": {
        "id": "xoKvlXU8WQyW"
      }
    },
    {
      "cell_type": "code",
      "source": [
        "flowers_list = [\"pink primrose\", \"hard-leaved pocket orchid\", \"canterbury bells\", \"sweet pea\", \"english marigold\", \"tiger lily\", \"moon orchid\", \"bird of paradise\", \"monkshood\", \"globe thistle\"]\n",
        "\n",
        "print (type(flowers_list))\n",
        "print(flowers_list)"
      ],
      "metadata": {
        "id": "9XIkue3xUE8w"
      },
      "execution_count": null,
      "outputs": []
    },
    {
      "cell_type": "code",
      "source": [
        "print(len(flowers_list))"
      ],
      "metadata": {
        "id": "WKhGNDw1Wwg9"
      },
      "execution_count": null,
      "outputs": []
    },
    {
      "cell_type": "code",
      "source": [
        "print(\"First entry:\", flowers_list[0])\n",
        "print(\"Second entry:\", flowers_list[1])\n",
        "\n",
        "print(\"last entry:\", flowers_list[9])"
      ],
      "metadata": {
        "id": "TBqlMNBjW1eF"
      },
      "execution_count": null,
      "outputs": []
    },
    {
      "cell_type": "code",
      "source": [
        "print(\"first three entries:\", flowers_list[:3])\n",
        "print(\"Last two entries:\", flowers_list[-2:])"
      ],
      "metadata": {
        "id": "O3j-jfezXiqr"
      },
      "execution_count": null,
      "outputs": []
    },
    {
      "cell_type": "code",
      "source": [
        "flowers_list.remove(\"globe thistle\")\n"
      ],
      "metadata": {
        "id": "39gy5fiMX4Y1"
      },
      "execution_count": null,
      "outputs": []
    },
    {
      "cell_type": "code",
      "source": [
        "flowers_list.append(\"snapdragon\")\n",
        "print(flowers_list)"
      ],
      "metadata": {
        "id": "EGWKE2UqYg6d"
      },
      "execution_count": null,
      "outputs": []
    },
    {
      "cell_type": "code",
      "source": [
        "hardcover_sales = [139, 128, 172, 139, 191, 168, 170]\n"
      ],
      "metadata": {
        "id": "6Hxhp9UlZurU"
      },
      "execution_count": null,
      "outputs": []
    },
    {
      "cell_type": "code",
      "source": [
        "print(\"Length of the list:\", len(hardcover_sales))\n",
        "print(\"Entry at index 2:\", hardcover_sales[2])"
      ],
      "metadata": {
        "id": "QztZdx3RZ1Lb"
      },
      "execution_count": null,
      "outputs": []
    },
    {
      "cell_type": "code",
      "source": [
        "print(\"Minimum:\", min(hardcover_sales))\n",
        "print(\"Maximum:\", max(hardcover_sales))"
      ],
      "metadata": {
        "id": "QMtwzhH5ahJH"
      },
      "execution_count": null,
      "outputs": []
    },
    {
      "cell_type": "code",
      "source": [
        "print(\"average books sold in first five days:\", sum(hardcover_sales[:5])/5)"
      ],
      "metadata": {
        "id": "Oc3gWw1ja4TA"
      },
      "execution_count": null,
      "outputs": []
    },
    {
      "cell_type": "code",
      "source": [
        "num_customers = [137, 147, 135, 128, 170, 174, 165, 146, 126, 159,\n",
        "                 141, 148, 132, 147, 168, 153, 170, 161, 148, 152,\n",
        "                 141, 151, 131, 149, 164, 163, 143, 143, 166, 171]\n",
        "\n",
        "# TODO: Fill in values for the variables below\n",
        "avg_first_seven = sum(num_customers[:7])/7\n",
        "avg_last_seven = sum(num_customers[-7:])/7\n",
        "max_month = max(num_customers)\n",
        "min_month = min(num_customers)"
      ],
      "metadata": {
        "id": "BPyQea36bYtp"
      },
      "execution_count": null,
      "outputs": []
    }
  ]
}