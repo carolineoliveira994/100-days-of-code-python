{
  "nbformat": 4,
  "nbformat_minor": 0,
  "metadata": {
    "colab": {
      "private_outputs": true,
      "provenance": [],
      "authorship_tag": "ABX9TyP+nHNt4oC+VShuQWL+Gqkg",
      "include_colab_link": true
    },
    "kernelspec": {
      "name": "python3",
      "display_name": "Python 3"
    },
    "language_info": {
      "name": "python"
    }
  },
  "cells": [
    {
      "cell_type": "markdown",
      "metadata": {
        "id": "view-in-github",
        "colab_type": "text"
      },
      "source": [
        "<a href=\"https://colab.research.google.com/github/carolineoliveira994/100-days-of-code-python/blob/main/dia04.ipynb\" target=\"_parent\"><img src=\"https://colab.research.google.com/assets/colab-badge.svg\" alt=\"Open In Colab\"/></a>"
      ]
    },
    {
      "cell_type": "markdown",
      "source": [
        "Loops and List Comprehensions\n"
      ],
      "metadata": {
        "id": "maZIlJzxKpcG"
      }
    },
    {
      "cell_type": "code",
      "source": [
        "planets = ['Mercury', 'Venus', 'Earth', 'Mars', 'Jupiter', 'Saturn', 'Uranus', 'Neptune']\n",
        "for planet in planets:\n",
        "  print(planet, end= ' ')"
      ],
      "metadata": {
        "id": "jVhawGxXKqqM"
      },
      "execution_count": null,
      "outputs": []
    },
    {
      "cell_type": "code",
      "source": [
        "multiplicands = (2, 2, 2, 3, 3, 5)\n",
        "product = 1\n",
        "for mult in multiplicands:\n",
        "  product = product * mult\n",
        "product"
      ],
      "metadata": {
        "id": "vtHHeJI7MnXL"
      },
      "execution_count": null,
      "outputs": []
    },
    {
      "cell_type": "code",
      "source": [
        "s = 'steganograpHy is the practicE of conceaLing a file, message, image, or video within another fiLe, message, image, Or video.'\n",
        "msg = ''\n",
        "\n",
        "for char in s:\n",
        "  if char.isupper():\n",
        "    print(char, end='')\n"
      ],
      "metadata": {
        "id": "Go08Q_VBNGpr"
      },
      "execution_count": null,
      "outputs": []
    },
    {
      "cell_type": "code",
      "source": [
        "for i in range(5):\n",
        "  print(\"doing important work. i =\", i)"
      ],
      "metadata": {
        "id": "ZZaEfmBENcGd"
      },
      "execution_count": null,
      "outputs": []
    },
    {
      "cell_type": "code",
      "source": [
        "i = 0\n",
        "while i < 10:\n",
        "  print(i, end=' ')\n",
        "  i += 1"
      ],
      "metadata": {
        "id": "tL6wywsTNrb2"
      },
      "execution_count": null,
      "outputs": []
    },
    {
      "cell_type": "markdown",
      "source": [
        "List comprehensions¶\n"
      ],
      "metadata": {
        "id": "ZuERju3yN5G1"
      }
    },
    {
      "cell_type": "code",
      "source": [
        "squares = [n**2 for n in range(10)]\n",
        "squares"
      ],
      "metadata": {
        "id": "fcTQkF-8N2ar"
      },
      "execution_count": null,
      "outputs": []
    },
    {
      "cell_type": "code",
      "source": [
        "squares = []\n",
        "for n in range(10):\n",
        "  squares.append(n**2)\n",
        "squares"
      ],
      "metadata": {
        "id": "mkKRWYsJOrKL"
      },
      "execution_count": null,
      "outputs": []
    },
    {
      "cell_type": "code",
      "source": [
        "short_planets = [planet for planet in planets if len(planet) <6]\n",
        "short_planets"
      ],
      "metadata": {
        "id": "Hyz7qwooO-qA"
      },
      "execution_count": null,
      "outputs": []
    },
    {
      "cell_type": "code",
      "source": [
        "loud_short_planets = [planet.upper() + '!' for planet in planets if len(planet) < 6]\n",
        "loud_short_planets"
      ],
      "metadata": {
        "id": "mW3vxQ1KPVHp"
      },
      "execution_count": null,
      "outputs": []
    },
    {
      "cell_type": "code",
      "source": [
        "[\n",
        "    planet.upper() + '!'\n",
        "    for planet in planets\n",
        "    if len(planet) <6\n",
        "]"
      ],
      "metadata": {
        "id": "rsUDs1J0P4br"
      },
      "execution_count": null,
      "outputs": []
    },
    {
      "cell_type": "markdown",
      "source": [
        "(Continuing the SQL analogy, you could think of these three lines as SELECT, FROM, and WHERE)\n",
        "\n",
        "The expression on the left doesn't technically have to involve the loop variable (though it'd be pretty unusual for it not to). What do you think the expression below will evaluate to? Press the 'output' button to check."
      ],
      "metadata": {
        "id": "GPO-Iqc9Qylk"
      }
    },
    {
      "cell_type": "code",
      "source": [
        "[32 for planet in planets]\n"
      ],
      "metadata": {
        "id": "IHHDueYVQMAZ"
      },
      "execution_count": null,
      "outputs": []
    },
    {
      "cell_type": "code",
      "source": [
        "def count_negatives(nums):\n",
        "  return len([num for num in nums if num <0])"
      ],
      "metadata": {
        "id": "fPHR4MY-Qzya"
      },
      "execution_count": null,
      "outputs": []
    },
    {
      "cell_type": "code",
      "source": [
        "def count_negatives(nums):\n",
        "  return sum([ num <0 for num in nums])"
      ],
      "metadata": {
        "id": "mxGGCtyxb5S1"
      },
      "execution_count": null,
      "outputs": []
    },
    {
      "cell_type": "code",
      "source": [
        "def estimete_average_slot_payout(n_runs):\n",
        "  payouts = [play_slot_machine()-1 for i in range(n_runs)]\n",
        "  avg_payout = sum(payouts) / n_runs\n",
        "  return avg_payout\n",
        "\n",
        "  estimate_average_slot_payout(1000000)"
      ],
      "metadata": {
        "id": "lSPbf6ibb9Ag"
      },
      "execution_count": null,
      "outputs": []
    },
    {
      "cell_type": "markdown",
      "source": [
        "Strings are sequences"
      ],
      "metadata": {
        "id": "aHe1puahoMLP"
      }
    },
    {
      "cell_type": "code",
      "source": [
        "planet = 'Pluto'\n",
        "planet[0]"
      ],
      "metadata": {
        "id": "Tvz5JvgJnIk9"
      },
      "execution_count": null,
      "outputs": []
    },
    {
      "cell_type": "code",
      "source": [
        "planet[-3]"
      ],
      "metadata": {
        "id": "MW_8SwOaoTKn"
      },
      "execution_count": null,
      "outputs": []
    },
    {
      "cell_type": "code",
      "source": [
        "len(planet)"
      ],
      "metadata": {
        "id": "E1MEfcNUoW3V"
      },
      "execution_count": null,
      "outputs": []
    },
    {
      "cell_type": "code",
      "source": [
        "[char+'! ' for char in planet]"
      ],
      "metadata": {
        "id": "GZm4kS8FoZa3"
      },
      "execution_count": null,
      "outputs": []
    },
    {
      "cell_type": "code",
      "source": [
        "claim = \"Pluto is a planet\"\n",
        "claim.upper()"
      ],
      "metadata": {
        "id": "E3lvmEdfohhn"
      },
      "execution_count": null,
      "outputs": []
    },
    {
      "cell_type": "code",
      "source": [
        "claim.lower()"
      ],
      "metadata": {
        "id": "9GDXEV9qo0JO"
      },
      "execution_count": null,
      "outputs": []
    },
    {
      "cell_type": "code",
      "source": [
        "claim.index('plan')"
      ],
      "metadata": {
        "id": "i9TbHx2Yo2-m"
      },
      "execution_count": null,
      "outputs": []
    },
    {
      "cell_type": "code",
      "source": [
        "claim.startswith(planet)"
      ],
      "metadata": {
        "id": "0nG6r59ao6Ff"
      },
      "execution_count": null,
      "outputs": []
    },
    {
      "cell_type": "code",
      "source": [
        "claim.endswith('planet')"
      ],
      "metadata": {
        "id": "R-UtMhHJpiXP"
      },
      "execution_count": null,
      "outputs": []
    },
    {
      "cell_type": "code",
      "source": [
        "words = claim.split()\n",
        "words"
      ],
      "metadata": {
        "id": "caAFhxMlpp56"
      },
      "execution_count": null,
      "outputs": []
    },
    {
      "cell_type": "code",
      "source": [
        "datestr = '1994-10-05'\n",
        "year, month, day = datestr.split('-')\n",
        "\n",
        "datestr"
      ],
      "metadata": {
        "id": "X-y1NiMHp3eH"
      },
      "execution_count": null,
      "outputs": []
    },
    {
      "cell_type": "code",
      "source": [
        "'/'.join([month, day, year])"
      ],
      "metadata": {
        "id": "5g8uocCsqSVs"
      },
      "execution_count": null,
      "outputs": []
    },
    {
      "cell_type": "code",
      "source": [
        "' 👏 '.join([word.upper() for word in words])"
      ],
      "metadata": {
        "id": "-flC5WtJqoZk"
      },
      "execution_count": null,
      "outputs": []
    },
    {
      "cell_type": "code",
      "source": [
        "planet + ', we miss you.'"
      ],
      "metadata": {
        "id": "6CwH7vb-qqSV"
      },
      "execution_count": null,
      "outputs": []
    },
    {
      "cell_type": "code",
      "source": [
        "position = 9\n",
        "planet + \", you'll always be the \" + position + \"th planet to me.\""
      ],
      "metadata": {
        "id": "vmnvnMvRqw3N"
      },
      "execution_count": null,
      "outputs": []
    },
    {
      "cell_type": "code",
      "source": [
        "planet + \", you'll always be the \" + str(position ) + \"th planet to me.\""
      ],
      "metadata": {
        "id": "9rnMtJBmrKKc"
      },
      "execution_count": null,
      "outputs": []
    },
    {
      "cell_type": "code",
      "source": [
        "pluto_mass = 1.303 * 10**22\n",
        "earth_mass = 5.9722 * 10**24\n",
        "population = 52910390\n",
        "\n",
        "\"{} weighs about {:.2} kilograms ({:.3%} of Earth's mass). It is home to {:,} Plutonians.\".format(\n",
        "    planet, pluto_mass, pluto_mass / earth_mass, population,\n",
        "\n",
        ")"
      ],
      "metadata": {
        "id": "cbSRGzsFrhzn"
      },
      "execution_count": null,
      "outputs": []
    },
    {
      "cell_type": "code",
      "source": [
        "s = \"\"\" Pluto's a {0}.\n",
        "No, it's a {1}.\n",
        "{0}!\n",
        "{1}! \"\"\".format('planet', 'dwarf planet')\n",
        "print(s)"
      ],
      "metadata": {
        "id": "9LKYo32Xts-L"
      },
      "execution_count": null,
      "outputs": []
    },
    {
      "cell_type": "code",
      "source": [
        "numbers = {'one':1, 'two':2, 'three':3}"
      ],
      "metadata": {
        "id": "n4OeOpMXuauH"
      },
      "execution_count": null,
      "outputs": []
    },
    {
      "cell_type": "code",
      "source": [
        "numbers['one']\n"
      ],
      "metadata": {
        "id": "A3NQ-vRKuqTS"
      },
      "execution_count": null,
      "outputs": []
    },
    {
      "cell_type": "code",
      "source": [
        "numbers['eleven'] = 11\n",
        "numbers"
      ],
      "metadata": {
        "id": "WUX-xgWnurGX"
      },
      "execution_count": null,
      "outputs": []
    },
    {
      "cell_type": "code",
      "source": [
        "numbers['one'] = 'Pluto'\n",
        "numbers"
      ],
      "metadata": {
        "id": "_HXg7oMxu2ZM"
      },
      "execution_count": null,
      "outputs": []
    },
    {
      "cell_type": "code",
      "source": [
        "planets = ['Mercury', 'Venus', 'Earth', 'Mars', 'Jupiter', 'Saturn', 'Uranus', 'Neptune']\n",
        "planet_to_initial = {planet: planet[0] for planet in planets}\n",
        "planet_to_initial"
      ],
      "metadata": {
        "id": "HCywpZL2u_ju"
      },
      "execution_count": null,
      "outputs": []
    },
    {
      "cell_type": "code",
      "source": [
        "'Venus' in planet_to_initial"
      ],
      "metadata": {
        "id": "A-KW3EEOvT2-"
      },
      "execution_count": null,
      "outputs": []
    },
    {
      "cell_type": "code",
      "source": [
        "for k in numbers:\n",
        "  print(\"{} = {}\". format(k, numbers[k]))"
      ],
      "metadata": {
        "id": "6RVlahyXvi1q"
      },
      "execution_count": null,
      "outputs": []
    },
    {
      "cell_type": "code",
      "source": [
        "' '.join(sorted(planet_to_initial.values()))"
      ],
      "metadata": {
        "id": "jCCv5586wG09"
      },
      "execution_count": null,
      "outputs": []
    },
    {
      "cell_type": "code",
      "source": [
        "for planet, initial in planet_to_initial.items():\n",
        "    print(\"{} begins with \\\"{}\\\"\".format(planet.rjust(10), initial))"
      ],
      "metadata": {
        "id": "4rZGXIprwPaV"
      },
      "execution_count": null,
      "outputs": []
    },
    {
      "cell_type": "code",
      "source": [
        "help(dict)\n"
      ],
      "metadata": {
        "id": "HxTBE5fvwhIy"
      },
      "execution_count": null,
      "outputs": []
    },
    {
      "cell_type": "code",
      "source": [
        "help(str.isdigit)\n"
      ],
      "metadata": {
        "id": "xndZsfm7wnY-"
      },
      "execution_count": null,
      "outputs": []
    },
    {
      "cell_type": "code",
      "source": [
        "def is_valid_zip(zip_code):\n",
        "    return len(zip_code) == 5 and zip_cod.isdigit()"
      ],
      "metadata": {
        "id": "uq15ywrzwnRM"
      },
      "execution_count": null,
      "outputs": []
    },
    {
      "cell_type": "code",
      "source": [
        "def word_search(doc_list, keyword):\n",
        "  indices =[]\n",
        "\n",
        "  for i, doc in enumerate(doc_list):\n",
        "    tokens = doc.split()\n",
        "    normalized = [token.rstrip('.,').lower() for token in tokens]\n",
        "\n",
        "    if keyword.lower() in normalized:\n",
        "      indices.append(i)\n",
        "  return indices"
      ],
      "metadata": {
        "id": "QKSYPE8o1Thk"
      },
      "execution_count": null,
      "outputs": []
    },
    {
      "cell_type": "code",
      "source": [
        "def multi_word_search(documents, keywords):\n",
        "    keyword_to_indices = {}\n",
        "    for keyword in keywords:\n",
        "        keyword_to_indices[keyword] = word_search(documents, keyword)\n",
        "    return keyword_to_indices\n"
      ],
      "metadata": {
        "id": "CMswH5IZ2DP7"
      },
      "execution_count": null,
      "outputs": []
    },
    {
      "cell_type": "markdown",
      "source": [
        "Working with External Libraries\n",
        "\n"
      ],
      "metadata": {
        "id": "XqJpIEeS3hhF"
      }
    },
    {
      "cell_type": "code",
      "source": [],
      "metadata": {
        "id": "nMBNS2tX3ilP"
      },
      "execution_count": null,
      "outputs": []
    },
    {
      "cell_type": "code",
      "source": [
        "import math\n",
        "\n",
        "print(\"it's math! it has type{}\". format(type(math)))"
      ],
      "metadata": {
        "id": "6fShPyIX3i1_"
      },
      "execution_count": null,
      "outputs": []
    },
    {
      "cell_type": "code",
      "source": [
        "print(dir(math))"
      ],
      "metadata": {
        "id": "cnpI91tK3wDS"
      },
      "execution_count": null,
      "outputs": []
    },
    {
      "cell_type": "code",
      "source": [
        "math.log(32,2)\n",
        "help(math.log)"
      ],
      "metadata": {
        "id": "h0n9c4vj3zBC"
      },
      "execution_count": null,
      "outputs": []
    },
    {
      "cell_type": "code",
      "source": [
        "import math as mt\n",
        "mt.pi\n"
      ],
      "metadata": {
        "id": "DAQV3zK24HhO"
      },
      "execution_count": null,
      "outputs": []
    },
    {
      "cell_type": "code",
      "source": [
        "from math import *\n",
        "print(pi, log(32, 2))"
      ],
      "metadata": {
        "id": "62R3MHOr4wl5"
      },
      "execution_count": null,
      "outputs": []
    },
    {
      "cell_type": "code",
      "source": [
        "import numpy\n",
        "type(rolls)\n",
        "print(dir(rolls))\n",
        "rolls = numpy.random.randint(low=1, high=6, size=10)\n",
        "rolls\n",
        "rolls.mean()"
      ],
      "metadata": {
        "id": "57kwahTi4-nt"
      },
      "execution_count": null,
      "outputs": []
    },
    {
      "cell_type": "code",
      "source": [
        "rolls.tolist()\n"
      ],
      "metadata": {
        "id": "-yCuAkXS4-N0"
      },
      "execution_count": null,
      "outputs": []
    },
    {
      "cell_type": "code",
      "source": [
        "xlist = [[1,2,3],[2,4,6],]\n",
        "\n",
        "x = numpy.asarray(xlist)\n",
        "print(\"xlist = {}\\nx = \\n{}\".format(xlist, x))"
      ],
      "metadata": {
        "id": "EEtCNo9i85N8"
      },
      "execution_count": null,
      "outputs": []
    },
    {
      "cell_type": "code",
      "source": [
        "import matpxlist[1,-1]"
      ],
      "metadata": {
        "id": "cDSAz7Vx9Twv"
      },
      "execution_count": null,
      "outputs": []
    },
    {
      "cell_type": "code",
      "source": [
        "import matplotlib.pyplot as plt\n",
        "import pandas as pd\n",
        "from learntools.python import jimmy_slots\n",
        "\n",
        "graph = jimmy_slots.get_graph()\n",
        "graph"
      ],
      "metadata": {
        "id": "EbZCl120-k_h"
      },
      "execution_count": null,
      "outputs": []
    },
    {
      "cell_type": "code",
      "source": [
        "def hand_total(hand):\n",
        "  total = 0\n",
        "  aces = 0\n",
        "  for card in hand:\n",
        "    if card in ['J', 'Q', 'K']:\n",
        "      total += 10\n",
        "    elif card == 'A':\n",
        "      aces += 1\n",
        "    else:\n",
        "      total +=int(card)\n",
        "  total += aces\n",
        "\n",
        "  while total + 10 <= 21 and aces > 0:\n",
        "\n",
        "    total += 10\n",
        "    aces -= 1\n",
        "  return total\n",
        "\n",
        "\n",
        "  def blaackjack_hand_greater_than(hand_1, hand_2):\n",
        "    total_1 = hand_total(hand_1)\n",
        "    total_2 = hand_total(hand_2)\n",
        "    return total_1 <=21 and (total_1 > total_2 or total_2 > 21)"
      ],
      "metadata": {
        "id": "a_QBgGydGTKx"
      },
      "execution_count": null,
      "outputs": []
    }
  ]
}