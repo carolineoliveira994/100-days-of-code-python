{
  "nbformat": 4,
  "nbformat_minor": 0,
  "metadata": {
    "colab": {
      "private_outputs": true,
      "provenance": [],
      "mount_file_id": "1Y_7uVJJiSu9xgmYKDEfeXTrp6Ks1L8I9",
      "authorship_tag": "ABX9TyMcBY6mTVPJPBIS+ZoqUt9z",
      "include_colab_link": true
    },
    "kernelspec": {
      "name": "python3",
      "display_name": "Python 3"
    },
    "language_info": {
      "name": "python"
    }
  },
  "cells": [
    {
      "cell_type": "markdown",
      "metadata": {
        "id": "view-in-github",
        "colab_type": "text"
      },
      "source": [
        "<a href=\"https://colab.research.google.com/github/carolineoliveira994/100-days-of-code-python/blob/main/dia05.ipynb\" target=\"_parent\"><img src=\"https://colab.research.google.com/assets/colab-badge.svg\" alt=\"Open In Colab\"/></a>"
      ]
    },
    {
      "cell_type": "markdown",
      "source": [
        "Esse código é um exemplo de como usar a regressão linear para modelar a relação entre o PIB (GDP) e a felicidade com base em dados reais. O gráfico resultante mostra como os valores de felicidade estão relacionados ao PIB dos países."
      ],
      "metadata": {
        "id": "LIWeyMCou_yr"
      }
    },
    {
      "cell_type": "code",
      "execution_count": null,
      "metadata": {
        "id": "0IjAjLtoZTBf"
      },
      "outputs": [],
      "source": [
        "import pandas as pd\n",
        "\n",
        "money_data_frame = pd.read_csv('/content/drive/MyDrive/PUCtarefas/happiness.csv')\n",
        "happy_data_frame = pd.read_csv('/content/drive/MyDrive/PUCtarefas/money.csv')\n"
      ]
    },
    {
      "cell_type": "code",
      "source": [
        "import numpy as np\n",
        "import pandas as pd\n",
        "import sklearn.linear_model\n",
        "import matplotlib.pyplot as plt\n",
        "\n",
        "# Dados relacionados à riqueza (GDP) e à felicidade de diferentes países.\n",
        "\n",
        "money_data_frame = pd.read_csv('/content/drive/MyDrive/PUCtarefas/happiness.csv')\n",
        "happy_data_frame = pd.read_csv('/content/drive/MyDrive/PUCtarefas/money.csv')\n",
        "\n",
        "\n",
        "#Os dados são mesclados com base na coluna 'Country' usando uma junção interna (how='inner'),\n",
        "#o que significa que apenas os países comuns a ambos os DataFrames serão incluídos.\n",
        "\n",
        "\n",
        "money_and_happiness_df = pd.merge(money_data_frame, happy_data_frame, on='Country', how='inner')\n",
        "\n",
        "#Converte a coluna 'GDP' de money_and_happiness_df em valores de\n",
        "#ponto flutuante (float) usando a função apply(float) para que os valores possam ser usados como dados numéricos.\n",
        "\n",
        "money_and_happiness_df['GDP'] = money_and_happiness_df['GDP'].apply(float)\n",
        "\n",
        "# Cria um gráfico de dispersão (scatter plot) dos dados, onde o eixo x ('GDP') e o eixo y ('Happiness')\n",
        "#são definidos no DataFrame money_and_happiness_df usando plot(kind='scatter', x='GDP', y='Happiness'). Isso cria um gráfico que mostra a relação entre o PIB (GDP) e a felicidade.\n",
        "\n",
        "money_and_happiness_df.plot(kind='scatter', x='GDP', y='Happiness')\n",
        "\n",
        "X = np.array(money_and_happiness_df['GDP']).reshape(-1, 1)\n",
        "y = money_and_happiness_df['Happiness']\n",
        "\n",
        "#Cria um modelo de regressão linear utilizando sklearn.linear_model.LinearRegression() e, em seguida, treina o\n",
        "#modelo com os dados de 'GDP' e 'Happiness' usando modelo_linear.fit(X, y).\n",
        "\n",
        "modelo_linear = sklearn.linear_model.LinearRegression()\n",
        "modelo_linear.fit(X, y)\n",
        "\n",
        "#Faz previsões com o modelo treinado usando modelo_linear.predict(X) e armazena essas previsões na variável prediction_y.\n",
        "import matplotlib.pyplot as plt\n",
        "prediction_y = modelo_linear.predict(X)\n",
        "\n",
        "plt.scatter(X, y, color='blue')\n",
        "plt.plot(X, prediction_y, color='red')\n",
        "plt.show()"
      ],
      "metadata": {
        "id": "b02WsLzYiEY3"
      },
      "execution_count": null,
      "outputs": []
    },
    {
      "cell_type": "code",
      "source": [
        "argentina_gdp = [[13588.84]]\n",
        "prediction = modelo_linear.predict(argentina_gdp)\n",
        "print(\"Previsão de Felicidade para a Argentina (GDP = 13588.84):\", prediction)"
      ],
      "metadata": {
        "id": "5OJy4mWJA9mW"
      },
      "execution_count": null,
      "outputs": []
    }
  ]
}