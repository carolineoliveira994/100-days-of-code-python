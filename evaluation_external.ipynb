{
  "nbformat": 4,
  "nbformat_minor": 0,
  "metadata": {
    "colab": {
      "private_outputs": true,
      "provenance": [],
      "authorship_tag": "ABX9TyNE/Y175GkIxEMyNA66HGIx",
      "include_colab_link": true
    },
    "kernelspec": {
      "name": "python3",
      "display_name": "Python 3"
    },
    "language_info": {
      "name": "python"
    }
  },
  "cells": [
    {
      "cell_type": "markdown",
      "metadata": {
        "id": "view-in-github",
        "colab_type": "text"
      },
      "source": [
        "<a href=\"https://colab.research.google.com/github/carolineoliveira994/100-days-of-code-python/blob/main/evaluation_external.ipynb\" target=\"_parent\"><img src=\"https://colab.research.google.com/assets/colab-badge.svg\" alt=\"Open In Colab\"/></a>"
      ]
    },
    {
      "cell_type": "markdown",
      "source": [
        "### Avaliação de Agrupamento de Dados\n",
        "\n",
        "* Utilização do algoritmo K-means com diferentes parâmetros.\n",
        "* Base de dados sintéticas\n",
        "* Comparações das diferentes execuções usando índice de avaliação externo."
      ],
      "metadata": {
        "id": "7eE98G1wstIE"
      }
    },
    {
      "cell_type": "code",
      "source": [
        "import time\n",
        "import numpy as np\n",
        "import pandas as pd\n",
        "import seaborn as sns\n",
        "import matplotlib.pyplot as plt\n",
        "import matplotlib.colors\n",
        "\n",
        "from sklearn.cluster import KMeans\n",
        "from sklearn.datasets import make_moons\n",
        "from sklearn.datasets import make_blobs\n",
        "\n",
        "from sklearn.metrics import adjusted_rand_score\n",
        "\n",
        "%matplotlib inline\n",
        "\n",
        "sns.set(style='darkgrid', context='talk', rc={'figure.figsize': (14, 8)})"
      ],
      "metadata": {
        "id": "6cRKtPB4suau"
      },
      "execution_count": null,
      "outputs": []
    },
    {
      "cell_type": "code",
      "source": [
        "X, y = make_blobs(n_samples=1000, centers=7, n_features=2, random_state=0)\n",
        "\n",
        "df = pd.DataFrame(X, columns=['x', 'y'])\n",
        "df['label'] = y\n",
        "\n",
        "df.head()"
      ],
      "metadata": {
        "id": "h2RllGsDs5tj"
      },
      "execution_count": null,
      "outputs": []
    },
    {
      "cell_type": "code",
      "source": [
        "_ = sns.scatterplot(x='x', y='y', data=df, hue='label', palette='rainbow', legend=False)"
      ],
      "metadata": {
        "id": "2AMbaXSXuNf_"
      },
      "execution_count": null,
      "outputs": []
    },
    {
      "cell_type": "code",
      "source": [
        "def train_and_plot(data, k=3, init='k-means++', n_init=10, max_iter=300,\n",
        "                   algorithm='auto', verbose=0, random_state=133):\n",
        "\n",
        "  data_copy = data.copy()\n",
        "  data_copy.drop(columns='label', inplace=True)\n",
        "\n",
        "\n",
        "  model = KMeans(n_clusters=k, init=init, n_init=n_init, max_iter=max_iter,\n",
        "                 algorithm=algorithm, random_state=random_state, verbose=verbose)\n",
        "  model.fit(data_copy)\n",
        "\n",
        "  data_copy['cluster_labels'] = model.labels_\n",
        "  _ = sns.scatterplot(x='x', y='y', data=data_copy, hue='cluster_labels', palette='rainbow', legend=False)\n",
        "\n",
        "\n",
        "  centroids = model.cluster_centers_\n",
        "  centroids_x = centroids[:,0]\n",
        "  centroids_y = centroids[:,1]\n",
        "\n",
        "  _ = plt.scatter(centroids_x, centroids_y, color='black', s=100)\n",
        "\n",
        "  return model, model.labels_"
      ],
      "metadata": {
        "id": "RYihzJI0vNAI"
      },
      "execution_count": null,
      "outputs": []
    },
    {
      "cell_type": "code",
      "source": [
        "_, clusters_labels = train_and_plot(df, k=7)"
      ],
      "metadata": {
        "id": "dZjbHJTjzWnN"
      },
      "execution_count": null,
      "outputs": []
    },
    {
      "cell_type": "markdown",
      "source": [
        "#### Adjusted Rand Index"
      ],
      "metadata": {
        "id": "g6d--O3l1WL9"
      }
    },
    {
      "cell_type": "code",
      "source": [
        "_, clusters_labels = train_and_plot(df, k=7)"
      ],
      "metadata": {
        "id": "MYbXxXjD1OrF"
      },
      "execution_count": null,
      "outputs": []
    },
    {
      "cell_type": "code",
      "source": [
        "print('Adjusted Rand Index', round(adjusted_rand_score(y, clusters_labels), 4))"
      ],
      "metadata": {
        "id": "cbYBwArQ1aA6"
      },
      "execution_count": null,
      "outputs": []
    },
    {
      "cell_type": "markdown",
      "source": [
        "Com inicialização aleatória, onde grupos resultantes são menos similares ao ground truth."
      ],
      "metadata": {
        "id": "nfpkOLg11fYt"
      }
    },
    {
      "cell_type": "code",
      "source": [
        "_, clusters_labels = train_and_plot(df, k=7, init='random', random_state=100)"
      ],
      "metadata": {
        "id": "x86YQTP11gAd"
      },
      "execution_count": null,
      "outputs": []
    },
    {
      "cell_type": "code",
      "source": [
        "print('Adjusted Rand Index', round(adjusted_rand_score(y, clusters_labels), 4))"
      ],
      "metadata": {
        "id": "W3H1cvQ51igz"
      },
      "execution_count": null,
      "outputs": []
    },
    {
      "cell_type": "code",
      "source": [
        "_, clusters_labels = train_and_plot(df, k=6, init='random', random_state=400)"
      ],
      "metadata": {
        "id": "7DjkrnbA1kZ7"
      },
      "execution_count": null,
      "outputs": []
    },
    {
      "cell_type": "code",
      "source": [
        "print('Adjusted Rand Index', round(adjusted_rand_score(y, clusters_labels), 4))"
      ],
      "metadata": {
        "id": "am2Hx0qU1l9-"
      },
      "execution_count": null,
      "outputs": []
    },
    {
      "cell_type": "markdown",
      "source": [
        "Com número de grupos incorreto, onde a quantidade de grupos resultantes é menor do que a quantidade de grupos real."
      ],
      "metadata": {
        "id": "ZgWlWlLS1oAX"
      }
    },
    {
      "cell_type": "code",
      "source": [
        "_, clusters_labels = train_and_plot(df, k=3)"
      ],
      "metadata": {
        "id": "HdzEVYdM1oer"
      },
      "execution_count": null,
      "outputs": []
    },
    {
      "cell_type": "code",
      "source": [
        "print('Adjusted Rand Index', round(adjusted_rand_score(y, clusters_labels), 4))"
      ],
      "metadata": {
        "id": "08M2Jlb_1rDx"
      },
      "execution_count": null,
      "outputs": []
    },
    {
      "cell_type": "markdown",
      "source": [
        "Com número de grupos incorreto, onde a quantidade de grupos resultantes é maior do que a quantidade de grupos real."
      ],
      "metadata": {
        "id": "_f7kWG4A1tCb"
      }
    },
    {
      "cell_type": "code",
      "source": [
        "_, clusters_labels = train_and_plot(df, k=30)"
      ],
      "metadata": {
        "id": "x9DMIZOU1ui9"
      },
      "execution_count": null,
      "outputs": []
    },
    {
      "cell_type": "code",
      "source": [
        "print('Adjusted Rand Index', round(adjusted_rand_score(y, clusters_labels), 4))"
      ],
      "metadata": {
        "id": "Qbjiwl8rOH1Y"
      },
      "execution_count": null,
      "outputs": []
    },
    {
      "cell_type": "markdown",
      "source": [
        "#### Testes de plot com o índice\n",
        "Pode ser muito útil ver um gráfico do índice variando pelo número de clusters"
      ],
      "metadata": {
        "id": "ed3b1Fw5OL06"
      }
    },
    {
      "cell_type": "code",
      "source": [
        "%%time\n",
        "\n",
        "def do_ajusted_random_index_and_plot(data, max_clusters):\n",
        "    min_clusters = 1\n",
        "\n",
        "    clusters_range = range(min_clusters, max_clusters + 1)\n",
        "\n",
        "    aris = []\n",
        "    data_copy = data.copy()\n",
        "    data_copy.drop(columns='label', inplace=True)\n",
        "\n",
        "    for k in clusters_range:\n",
        "        model = KMeans(n_clusters=k, random_state=33)\n",
        "        model.fit(data_copy)\n",
        "\n",
        "        #ARI = Ajusted Random Index :)\n",
        "        ari = adjusted_rand_score(y, model.labels_)\n",
        "        aris.append(ari)\n",
        "\n",
        "    _ = plt.plot(clusters_range, aris, '-o')\n",
        "    _ = plt.title('Ajusted Random Index x Número de Clusters')\n",
        "    _ = plt.xlabel('Número de clusters')\n",
        "    _ = plt.ylabel('Ajusted Random Index')\n",
        "    _ = plt.xticks(clusters_range)\n",
        "    plt.show()"
      ],
      "metadata": {
        "id": "lYjUwK5ZObUh"
      },
      "execution_count": null,
      "outputs": []
    },
    {
      "cell_type": "code",
      "source": [
        "do_ajusted_random_index_and_plot(df, max_clusters=10)"
      ],
      "metadata": {
        "id": "4uNWKKhxhMyW"
      },
      "execution_count": null,
      "outputs": []
    },
    {
      "cell_type": "code",
      "source": [
        "do_ajusted_random_index_and_plot(df, max_clusters=int(np.sqrt(len(df))))"
      ],
      "metadata": {
        "id": "Yxoen3PfkPQU"
      },
      "execution_count": null,
      "outputs": []
    },
    {
      "cell_type": "markdown",
      "source": [
        "### Execução com base de dados de 1M de registros"
      ],
      "metadata": {
        "id": "zR22eGRil1Fn"
      }
    },
    {
      "cell_type": "code",
      "source": [
        "X, y = make_blobs(n_samples=1000000, centers=7, n_features=2,\n",
        "                  random_state=33)\n",
        "\n",
        "df = pd.DataFrame(X, columns=['x', 'y'])\n",
        "\n",
        "df.head()"
      ],
      "metadata": {
        "id": "IynOE-fGkzSX"
      },
      "execution_count": null,
      "outputs": []
    },
    {
      "cell_type": "code",
      "source": [
        "start = time.time()\n",
        "model = KMeans(n_clusters=7, algorithm='full', random_state=33)\n",
        "model.fit(df)\n",
        "print(time.time() - start)"
      ],
      "metadata": {
        "id": "pxNUwpTKlJJz"
      },
      "execution_count": null,
      "outputs": []
    },
    {
      "cell_type": "code",
      "source": [
        "print('Ajusted Random Index:', round(adjusted_rand_score(y, model.labels_), 4))"
      ],
      "metadata": {
        "id": "AyXD71UTlgdZ"
      },
      "execution_count": null,
      "outputs": []
    },
    {
      "cell_type": "markdown",
      "source": [],
      "metadata": {
        "id": "lZCAfJtxlx8d"
      }
    },
    {
      "cell_type": "markdown",
      "source": [
        "Resultados da avaliação de execuções onde o K-means é limitado."
      ],
      "metadata": {
        "id": "XuduzLYbl68G"
      }
    },
    {
      "cell_type": "code",
      "source": [
        "transformation = [[0.3, -0.3], [-1.2, 0.2]]\n",
        "\n",
        "X, y = make_blobs(n_samples=1000, centers=7, n_features=2, random_state=170)\n",
        "\n",
        "df_transformed = pd.DataFrame(np.dot(X, transformation), columns=['x', 'y'])\n",
        "df_transformed['label'] = y\n",
        "\n",
        "df_transformed.head()"
      ],
      "metadata": {
        "id": "Uwnt1Et3l8Rq"
      },
      "execution_count": null,
      "outputs": []
    },
    {
      "cell_type": "code",
      "source": [
        "_ = sns.scatterplot(x='x', y = 'y', data=df_transformed, hue='label', palette='rainbow', legend=False)"
      ],
      "metadata": {
        "id": "R9FZu5L-nIuP"
      },
      "execution_count": null,
      "outputs": []
    },
    {
      "cell_type": "code",
      "source": [
        "_, clusters_labels = train_and_plot(df_transformed, k=7)"
      ],
      "metadata": {
        "id": "W9ju4qFvnYin"
      },
      "execution_count": null,
      "outputs": []
    },
    {
      "cell_type": "code",
      "source": [
        "print('Adjusted Rand Index', round(adjusted_rand_score(y, clusters_labels), 4))"
      ],
      "metadata": {
        "id": "kj4P6Cghnipc"
      },
      "execution_count": null,
      "outputs": []
    },
    {
      "cell_type": "markdown",
      "source": [
        "### Avaliando em bases de dados com formatos diferentes de grupos"
      ],
      "metadata": {
        "id": "JDFgwWdrn2K1"
      }
    },
    {
      "cell_type": "code",
      "source": [
        "X, y = make_moons(300, noise=.05, random_state=33)\n",
        "df_moon = pd.DataFrame(X, columns=['x', 'y'])\n",
        "df_moon['label'] = y\n",
        "\n",
        "df_moon.head()"
      ],
      "metadata": {
        "id": "gK3MEd0bn3Et"
      },
      "execution_count": null,
      "outputs": []
    },
    {
      "cell_type": "code",
      "source": [
        "_ = sns.scatterplot(x='x', y='y', data=df_moon, hue='label', palette='rainbow', legend=False)"
      ],
      "metadata": {
        "id": "baM7QiT4oY7v"
      },
      "execution_count": null,
      "outputs": []
    },
    {
      "cell_type": "code",
      "source": [
        "_, clusters_labels = train_and_plot(df_moon, k=2)"
      ],
      "metadata": {
        "id": "FwoJebUHoa1w"
      },
      "execution_count": null,
      "outputs": []
    },
    {
      "cell_type": "code",
      "source": [
        "print('Adjusted Rand Index', round(adjusted_rand_score(y, clusters_labels), 4))"
      ],
      "metadata": {
        "id": "AuF3iCUPoc1W"
      },
      "execution_count": null,
      "outputs": []
    }
  ]
}