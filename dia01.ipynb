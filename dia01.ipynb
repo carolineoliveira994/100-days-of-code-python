{
  "nbformat": 4,
  "nbformat_minor": 0,
  "metadata": {
    "colab": {
      "private_outputs": true,
      "provenance": [],
      "authorship_tag": "ABX9TyP+sNnVqrokjgBmtPOh5QI+",
      "include_colab_link": true
    },
    "kernelspec": {
      "name": "python3",
      "display_name": "Python 3"
    },
    "language_info": {
      "name": "python"
    }
  },
  "cells": [
    {
      "cell_type": "markdown",
      "metadata": {
        "id": "view-in-github",
        "colab_type": "text"
      },
      "source": [
        "<a href=\"https://colab.research.google.com/github/carolineoliveira994/100-days-of-code-python/blob/main/dia01.ipynb\" target=\"_parent\"><img src=\"https://colab.research.google.com/assets/colab-badge.svg\" alt=\"Open In Colab\"/></a>"
      ]
    },
    {
      "cell_type": "markdown",
      "source": [
        "Data Types:\n"
      ],
      "metadata": {
        "id": "gZsQoU3PCjrX"
      }
    },
    {
      "cell_type": "code",
      "execution_count": null,
      "metadata": {
        "id": "Jd92AsuYCaNp"
      },
      "outputs": [],
      "source": [
        "x = 14\n",
        "print(x)\n",
        "print(type(x))"
      ]
    },
    {
      "cell_type": "code",
      "source": [
        "nearly_pi = 3.141592653589793238462643383279502884197169399375105820974944\n",
        "print(nearly_pi)\n",
        "print(type(nearly_pi))"
      ],
      "metadata": {
        "id": "N3UBR7I-HADl"
      },
      "execution_count": null,
      "outputs": []
    },
    {
      "cell_type": "code",
      "source": [
        "almost_pi = 22/7\n",
        "print(almost_pi)\n",
        "print(type(almost_pi))"
      ],
      "metadata": {
        "id": "NbVJJoz3Hh9E"
      },
      "execution_count": null,
      "outputs": []
    },
    {
      "cell_type": "code",
      "source": [
        "z_one = True\n",
        "print(z_one)\n",
        "print(type(z_one))"
      ],
      "metadata": {
        "id": "yW3jIGMXIxOo"
      },
      "execution_count": null,
      "outputs": []
    },
    {
      "cell_type": "code",
      "source": [
        "rounded_pi = round(almost_pi, 5)\n",
        "print(rounded_pi)\n",
        "print(type(rounded_pi))"
      ],
      "metadata": {
        "id": "syCbvB-iJE14"
      },
      "execution_count": null,
      "outputs": []
    },
    {
      "cell_type": "code",
      "source": [
        "y = float = 1.\n",
        "print(y)\n",
        "print(type(y))"
      ],
      "metadata": {
        "id": "ktiRah6dKRYZ"
      },
      "execution_count": null,
      "outputs": []
    },
    {
      "cell_type": "code",
      "source": [
        "z_two = True\n",
        "print(z_two)\n",
        "print(type(z_two))"
      ],
      "metadata": {
        "id": "ZGB5WvTyMatt"
      },
      "execution_count": null,
      "outputs": []
    },
    {
      "cell_type": "code",
      "source": [
        "z_tree = (1 < 2)\n",
        "print(z_tree)\n",
        "print(type(z_tree))"
      ],
      "metadata": {
        "id": "pVuPW1RWPUXA"
      },
      "execution_count": null,
      "outputs": []
    },
    {
      "cell_type": "code",
      "source": [
        "z_four = (5 < 3)\n",
        "print(z_four)\n",
        "print(type(z_four))"
      ],
      "metadata": {
        "id": "rK9auZcYPoJF"
      },
      "execution_count": null,
      "outputs": []
    },
    {
      "cell_type": "code",
      "source": [
        "z_five = not z_four\n",
        "print(z_five)\n",
        "print(type(z_five))"
      ],
      "metadata": {
        "id": "PlIUnoo_QQOv"
      },
      "execution_count": null,
      "outputs": []
    },
    {
      "cell_type": "code",
      "source": [
        "w = \"hello word\"\n",
        "print(w)\n",
        "print(type(w))\n",
        "print(len(w))"
      ],
      "metadata": {
        "id": "quVK6hlsQual"
      },
      "execution_count": null,
      "outputs": []
    },
    {
      "cell_type": "code",
      "source": [
        "my_number = \"1.111\"\n",
        "print(my_number)\n",
        "print(type(my_number))\n"
      ],
      "metadata": {
        "id": "E40Om-y-R87m"
      },
      "execution_count": null,
      "outputs": []
    },
    {
      "cell_type": "code",
      "source": [
        "my_number = \"1.111\"\n",
        "print(my_number)\n",
        "print(type(my_number))\n",
        "also_my_number = float(my_number)\n",
        "print(also_my_number)"
      ],
      "metadata": {
        "id": "RUuhcAvoRZ-y"
      },
      "execution_count": null,
      "outputs": []
    },
    {
      "cell_type": "code",
      "source": [
        "new_string = \"ca\" + \"rol\"\n",
        "print(new_string)"
      ],
      "metadata": {
        "id": "ctqN5bQrTx6k"
      },
      "execution_count": null,
      "outputs": []
    },
    {
      "cell_type": "markdown",
      "source": [
        "In this question, you will build off your work from the previous exercise to write a function that estimates the value of a house.\n",
        "\n",
        "Use the next code cell to create a function get_expected_cost that takes as input three variables:\n",
        "\n",
        "beds - number of bedrooms (data type float)\n",
        "baths - number of bathrooms (data type float)\n",
        "has_basement - whether or not the house has a basement (data type boolean)\n",
        "It should return the expected cost of a house with those characteristics. Assume that:\n",
        "\n",
        "the expected cost for a house with 0 bedrooms and 0 bathrooms, and no basement is 80000,\n",
        "each bedroom adds 30000 to the expected cost,\n",
        "each bathroom adds 10000 to the expected cost, and\n",
        "a basement adds 40000 to the expected cost.\n",
        "For instance,\n",
        "\n",
        "a house with 1 bedroom, 1 bathroom, and no basement has an expected cost of 80000 + 30000 + 10000 = 120000. This value will be calculated with get_expected_cost(1, 1, False).\n",
        "a house with 2 bedrooms, 1 bathroom, and a basement has an expected cost of 80000 + 2*30000 + 10000 + 40000 = 190000. This value will be calculated with get_expected_cost(2, 1, True).\n",
        "Remember you can always get a hint by uncommenting q3.hint() in the code cell following the next!"
      ],
      "metadata": {
        "id": "S9PL4fIsVwVZ"
      }
    },
    {
      "cell_type": "code",
      "source": [
        "def get_expected_cost(beds, baths, has_basement):\n",
        "  value = 80000 + 30000 * beds + 10000 * baths + 40000 * has_basement\n",
        "  return(value)\n"
      ],
      "metadata": {
        "id": "Eof2QRsiUkqi"
      },
      "execution_count": null,
      "outputs": []
    },
    {
      "cell_type": "markdown",
      "source": [
        "You own an online shop where you sell rings with custom engravings. You offer both gold plated and solid gold rings.\n",
        "\n",
        "Gold plated rings have a base cost of $50, and you charge $7 per engraved unit.\n",
        "Solid gold rings have a base cost of $100, and you charge $10 per engraved unit.\n",
        "Spaces and punctuation are counted as engraved units.\n",
        "Write a function cost_of_project() that takes two arguments:\n",
        "\n",
        "engraving - a Python string with the text of the engraving\n",
        "solid_gold - a Boolean that indicates whether the ring is solid gold\n",
        "It should return the cost of the project."
      ],
      "metadata": {
        "id": "hZKt6HYRV5w1"
      }
    },
    {
      "cell_type": "code",
      "source": [
        "def cost_of_project(engraving, solid_gold):\n",
        "  cost = solid_gold(100 + 10 (len(engraving))) + (not solid_gold) * (50 + 7 (len(engraving)))\n",
        "  return(cost)"
      ],
      "metadata": {
        "id": "Q64s1y9BV7rY"
      },
      "execution_count": null,
      "outputs": []
    },
    {
      "cell_type": "code",
      "source": [
        "project_one = cost_of_project(\"Charlie+Denver\", True)\n",
        "print(project_one)\n"
      ],
      "metadata": {
        "id": "N8prTaD6Yy6p"
      },
      "execution_count": null,
      "outputs": []
    },
    {
      "cell_type": "code",
      "source": [
        "project_one = cost_of_project(\"caroline+oliveira\", True)\n",
        "print(project_one)"
      ],
      "metadata": {
        "id": "FZg6I5RDX0h2"
      },
      "execution_count": null,
      "outputs": []
    },
    {
      "cell_type": "code",
      "source": [
        "var_one = 1\n",
        "var_two = 2\n",
        "\n",
        "\n",
        "print(var_one < 1)\n",
        "print(var_two >= var_one)"
      ],
      "metadata": {
        "id": "aIpgyHFhcFLc"
      },
      "execution_count": null,
      "outputs": []
    },
    {
      "cell_type": "markdown",
      "source": [
        "Conditional statements\n",
        "Conditional statements use conditions to modify how your function runs. They check the value of a condition, and if the condition evaluates to True, then a certain block of code is executed. (Otherwise, if the condition is False, then the code is not run.)\n",
        "\n",
        "You will see several examples of this in the following sections.\n",
        "\n",
        "\"if\" statements\n",
        "The simplest type of conditional statement is an \"if\" statement. You can see an example of this in the evaluate_temp() function below. The function accepts a body temperature (in Celcius) as input.\n",
        "\n",
        "Initially, message is set to \"Normal temperature\".\n",
        "Then, if temp > 38 is True (e.g., the body temperature is greater than 38°C), the message is updated to \"Fever!\". Otherwise, if temp > 38 is False, then the message is not updated.\n",
        "Finally, message is returned by the function."
      ],
      "metadata": {
        "id": "aaYdvf5HgToV"
      }
    },
    {
      "cell_type": "code",
      "source": [
        "def evaluate_temp(temp):\n",
        "  message = \"normal temp\"\n",
        "  if temp > 38:\n",
        "    message = \"feber\"\n",
        "  return message\n",
        "\n"
      ],
      "metadata": {
        "id": "OnAmALnYeSst"
      },
      "execution_count": null,
      "outputs": []
    },
    {
      "cell_type": "code",
      "source": [
        "print(evaluate_temp(38))"
      ],
      "metadata": {
        "id": "P08n9ywPeSo7"
      },
      "execution_count": null,
      "outputs": []
    },
    {
      "cell_type": "code",
      "source": [
        "def evaluate_temp_with_else(temp):\n",
        "  if temp > 38:\n",
        "    message = \"feber\"\n",
        "  else:\n",
        "    message = \"normal temp\"\n",
        "  return message"
      ],
      "metadata": {
        "id": "qy4OlAsqhvnq"
      },
      "execution_count": null,
      "outputs": []
    },
    {
      "cell_type": "code",
      "source": [
        "print(evaluate_temp_with_else(40))"
      ],
      "metadata": {
        "id": "-b3wNMz2jPTb"
      },
      "execution_count": null,
      "outputs": []
    },
    {
      "cell_type": "code",
      "source": [],
      "metadata": {
        "id": "7Xkx65uYj5OF"
      },
      "execution_count": null,
      "outputs": []
    }
  ]
}