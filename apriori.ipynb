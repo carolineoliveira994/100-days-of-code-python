{
  "nbformat": 4,
  "nbformat_minor": 0,
  "metadata": {
    "colab": {
      "private_outputs": true,
      "provenance": [],
      "authorship_tag": "ABX9TyO3xqFH4n5jB6ZxRSp/4C+1",
      "include_colab_link": true
    },
    "kernelspec": {
      "name": "python3",
      "display_name": "Python 3"
    },
    "language_info": {
      "name": "python"
    }
  },
  "cells": [
    {
      "cell_type": "markdown",
      "metadata": {
        "id": "view-in-github",
        "colab_type": "text"
      },
      "source": [
        "<a href=\"https://colab.research.google.com/github/carolineoliveira994/100-days-of-code-python/blob/main/apriori.ipynb\" target=\"_parent\"><img src=\"https://colab.research.google.com/assets/colab-badge.svg\" alt=\"Open In Colab\"/></a>"
      ]
    },
    {
      "cell_type": "code",
      "execution_count": null,
      "metadata": {
        "id": "EeWMIVECCSn1"
      },
      "outputs": [],
      "source": []
    },
    {
      "cell_type": "markdown",
      "source": [
        "1. reduzir nuemro de itens sets\n",
        "2. reduzir numero de comparações\n",
        "3. reduzir transações\n",
        "\n",
        "apriori\n",
        "\n",
        "se um itemset é frequente, entao todos seus subconjuntos também sao frequentes\n",
        "\n",
        "\n",
        "*   subconjunto te itemstes frequentes sao frenquentes\n",
        "*   mantém os conjuntos que sao frequentes\n",
        "poda os conjuntpos que nao sao frequentes\n",
        "ultiliza o suporte como forma de poda de itemsets candidatos\n",
        "inversamente, se um itemset nao é frequente, entao todos seys superconjuntos também sao infrequentes\n",
        "\n",
        "B.O APRIORI\n",
        "\n",
        "ULTIIZA ABORDAGEM GENERATION-AND-TEST\n",
        "PASSO DE GERAÇÃI DE ITEMSTES CANDIDATOS É BASTANTE CUSTOSO, PRINCIPALMENTE EM BASES DE DADOS QUE TENHAM MUITOS PADRÕES\n",
        "\n",
        "\n",
        "grandes numeros de candidatos gerados\n",
        "realiza multipla varreduras\n",
        "\n",
        "FP-Growth\n",
        "\n",
        "\n",
        "\n"
      ],
      "metadata": {
        "id": "FcI3e16oJ4BP"
      }
    },
    {
      "cell_type": "code",
      "source": [
        "import pandas as pd\n",
        "import numpy as np\n",
        "\n",
        "from mlxtend.preprocessing import TransactionEncoder\n",
        "from mlxtend.frequent_patterns import apriori"
      ],
      "metadata": {
        "id": "GA47j0eRM6s7"
      },
      "execution_count": null,
      "outputs": []
    },
    {
      "cell_type": "code",
      "source": [
        "dataset = [['Bread','Milk'],\n",
        "           ['Bread', 'Milk', 'Eggs'],\n",
        "           ['Milk', 'Beer', 'Bread'],\n",
        "           ['Cola', 'Milk', 'Bread'],\n",
        "           ['Milk', 'Diapers']]"
      ],
      "metadata": {
        "id": "w9Z-BQqLNN5K"
      },
      "execution_count": null,
      "outputs": []
    },
    {
      "cell_type": "code",
      "source": [
        "te = TransactionEncoder()\n",
        "te.fit(dataset)"
      ],
      "metadata": {
        "id": "_qveXXjTNQ8e"
      },
      "execution_count": null,
      "outputs": []
    },
    {
      "cell_type": "code",
      "source": [
        "dataset_encoded = te.transform(dataset)\n",
        "dataset_encoded"
      ],
      "metadata": {
        "id": "_8TTuwNRNcUS"
      },
      "execution_count": null,
      "outputs": []
    },
    {
      "cell_type": "code",
      "source": [
        "dataset_encoded.astype('int')"
      ],
      "metadata": {
        "id": "E4NRrILbNlNK"
      },
      "execution_count": null,
      "outputs": []
    },
    {
      "cell_type": "markdown",
      "source": [],
      "metadata": {
        "id": "QagKsyhPJmPR"
      }
    },
    {
      "cell_type": "code",
      "source": [
        "df = pd.DataFrame(dataset_encoded, columns=te.columns_)\n",
        "df"
      ],
      "metadata": {
        "id": "PleckFhnNyzi"
      },
      "execution_count": null,
      "outputs": []
    },
    {
      "cell_type": "code",
      "source": [
        "min_support = 0.5\n",
        "frequent_itemsets = apriori(df, min_support=min_support, use_colnames=True)\n",
        "frequent_itemsets"
      ],
      "metadata": {
        "id": "mVtLbqQRNzT2"
      },
      "execution_count": null,
      "outputs": []
    },
    {
      "cell_type": "code",
      "source": [],
      "metadata": {
        "id": "pgA2EstrOIXT"
      },
      "execution_count": null,
      "outputs": []
    },
    {
      "cell_type": "code",
      "source": [
        "min_support = 0.7\n",
        "frequent_itemsets = apriori(df, min_support=min_support, use_colnames=True)\n",
        "frequent_itemsets"
      ],
      "metadata": {
        "id": "2vVlcntygaq-"
      },
      "execution_count": null,
      "outputs": []
    },
    {
      "cell_type": "code",
      "source": [],
      "metadata": {
        "id": "dYpcuhLKgyJz"
      },
      "execution_count": null,
      "outputs": []
    }
  ]
}