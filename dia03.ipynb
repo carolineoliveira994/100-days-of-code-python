{
  "nbformat": 4,
  "nbformat_minor": 0,
  "metadata": {
    "colab": {
      "private_outputs": true,
      "provenance": [],
      "authorship_tag": "ABX9TyN8mCIkOdB4BaMgXbA3FwmJ",
      "include_colab_link": true
    },
    "kernelspec": {
      "name": "python3",
      "display_name": "Python 3"
    },
    "language_info": {
      "name": "python"
    }
  },
  "cells": [
    {
      "cell_type": "markdown",
      "metadata": {
        "id": "view-in-github",
        "colab_type": "text"
      },
      "source": [
        "<a href=\"https://colab.research.google.com/github/carolineoliveira994/100-days-of-code-python/blob/main/dia03.ipynb\" target=\"_parent\"><img src=\"https://colab.research.google.com/assets/colab-badge.svg\" alt=\"Open In Colab\"/></a>"
      ]
    },
    {
      "cell_type": "code",
      "execution_count": null,
      "metadata": {
        "id": "HpZdqYb0OOeK"
      },
      "outputs": [],
      "source": [
        "The list num_customers contains the number of customers who came into your restaurant every day over the last month (which lasted thirty days). Fill in values for each of the following:\n",
        "\n",
        "avg_first_seven - average number of customers who visited in the first seven days\n",
        "avg_last_seven - average number of customers who visited in the last seven days\n",
        "max_month - number of customers on the day that got the most customers in the last month\n",
        "min_month - number of customers on the day that got the least customers in the last month\n",
        "Answer this question by writing code. For instance, if you have to find the minimum value in a list, use min() instead of scanning for the smallest value and directly filling in a number."
      ]
    },
    {
      "cell_type": "code",
      "source": [
        "num_customers = [137, 147, 135, 128, 170, 174, 165, 146, 126, 159,\n",
        "                 141, 148, 132, 147, 168, 153, 170, 161, 148, 152,\n",
        "                 141, 151, 131, 149, 164, 163, 143, 143, 166, 171]"
      ],
      "metadata": {
        "id": "JqeeSbEyZQJH"
      },
      "execution_count": null,
      "outputs": []
    },
    {
      "cell_type": "code",
      "source": [
        "num_customers = [137, 147, 135, 128, 170, 174, 165, 146, 126, 159,\n",
        "                 141, 148, 132, 147, 168, 153, 170, 161, 148, 152,\n",
        "                 141, 151, 131, 149, 164, 163, 143, 143, 166, 171]\n",
        "\n",
        "avg_first_seven = sum(num_customers[:7])/7\n",
        "avg_last_seven = sum(num_customers[-7:])/7\n",
        "max_month = max(num_customers)\n",
        "min_month = min(num_customers)"
      ],
      "metadata": {
        "id": "bPmvxCVCZSxA"
      },
      "execution_count": null,
      "outputs": []
    },
    {
      "cell_type": "code",
      "source": [
        "flowers = \"pink primrose,hard-leaved pocket orchid,canterbury bells,sweet pea,english marigold,tiger lily,moon orchid,bird of paradise,monkshood,globe thistle\""
      ],
      "metadata": {
        "id": "geWKb9kMZ-NT"
      },
      "execution_count": null,
      "outputs": []
    },
    {
      "cell_type": "code",
      "source": [
        "print(flowers.split(\",\"))"
      ],
      "metadata": {
        "id": "1wROI9bYaSHq"
      },
      "execution_count": null,
      "outputs": []
    },
    {
      "cell_type": "code",
      "source": [
        "alphabet = \"A.B.C.D.E.F.G.H.I.J.K.L.M.N.O.P.Q.R.S.T.U.V.W.X.Y.Z\"\n",
        "address = \"Mr. H. Potter,The cupboard under the Stairs,4 Privet Drive,Little Whinging,Surrey\""
      ],
      "metadata": {
        "id": "RMI1ml8QaeY6"
      },
      "execution_count": null,
      "outputs": []
    },
    {
      "cell_type": "code",
      "source": [
        "letters = alphabet.split(\".\")\n",
        "print(letters)"
      ],
      "metadata": {
        "id": "komP7VMHatNn"
      },
      "execution_count": null,
      "outputs": []
    },
    {
      "cell_type": "code",
      "source": [
        "formatted_address = address.split(\",\")\n",
        "print(formatted_address)"
      ],
      "metadata": {
        "id": "HNEYj9_YbKUh"
      },
      "execution_count": null,
      "outputs": []
    },
    {
      "cell_type": "markdown",
      "source": [
        "In this question, you'll use this list comprehension to define a function percentage_liked() that takes one argument as input:\n",
        "\n",
        "ratings: list of ratings that people gave to a movie, where each rating is a number between 1-5, inclusive\n",
        "We say someone liked the movie, if they gave a rating of either 4 or 5. Your function should return the percentage of people who liked the movie.\n",
        "\n",
        "For instance, if we supply a value of [1, 2, 3, 4, 5, 4, 5, 1], then 50% (4/8) of the people liked the movie, and the function should return 0.5.\n",
        "\n",
        "Part of the function has already been completed for you. You need only use list_liked to calculate percentage_liked."
      ],
      "metadata": {
        "id": "YvUWq0htdvHO"
      }
    },
    {
      "cell_type": "code",
      "source": [
        "test_ratings = [1, 2, 3, 4, 5]"
      ],
      "metadata": {
        "id": "aTMl2WNFdvwy"
      },
      "execution_count": null,
      "outputs": []
    },
    {
      "cell_type": "code",
      "source": [
        "test_liked  = [i >= 4 for i in ()]\n",
        "print(test_liked)"
      ],
      "metadata": {
        "id": "s1jZISFkd9Dx"
      },
      "execution_count": null,
      "outputs": []
    },
    {
      "cell_type": "code",
      "source": [
        "def percentage_liked(ratings):\n",
        "  list_liked = [i >= 4 for i in ratings]\n",
        "  percentage_liked = [i >= 4 for i in ratings]\n",
        "  percentage_liked = sum(list_liked)/len(list_liked)\n",
        "\n",
        "  return percentage_liked\n",
        "\n",
        "percentage_liked([1, 2, 3, 4, 5, 4, 5, 1])"
      ],
      "metadata": {
        "id": "a5tTVcimedKx"
      },
      "execution_count": null,
      "outputs": []
    },
    {
      "cell_type": "markdown",
      "source": [
        "\n",
        "# 🌶️ Question 5\n",
        "\n",
        "Say you're doing analytics for a website.  You need to write a function that returns the percentage growth in the total number of users relative to a specified number of years ago.\n",
        "\n",
        "Your function `percentage_growth()` should take two arguments as input:\n",
        "- `num_users` = Python list with the total number of users each year.  So `num_users[0]` is the total number of users in the first year, `num_users[1]` is the total number of users in the second year, and so on.  The final entry in the list gives the total number of users in the most recently completed year.\n",
        "- `yrs_ago` = number of years to go back in time when calculating the growth percentage\n",
        "\n",
        "For instance, say `num_users = [920344, 1043553, 1204334, 1458996, 1503323, 1593432, 1623463, 1843064, 1930992, 2001078]`.\n",
        "- if `yrs_ago = 1`, we want the function to return a value of about `0.036`. This corresponds to a percentage growth of approximately 3.6%, calculated as (2001078 - 1930992)/1930992.\n",
        "- if `years_ago = 7`, we would want to return approximately `0.66`.  This corresponds to a percentage growth of approximately 66%, calculated as (2001078 - 1204334)/1204334.\n",
        "\n",
        "Your coworker sent you a draft of a function, but it doesn't seem to be doing the correct calculation.  Can you figure out what has gone wrong and make the needed changes?\n",
        "\n"
      ],
      "metadata": {
        "id": "hTDmFBOygVST"
      }
    },
    {
      "cell_type": "code",
      "source": [
        "def percentage_growth(num_users, yrs_ago):\n",
        "    growth = (num_users[len(num_users)-1] - num_users[len(num_users)-yrs_ago-1])/num_users[len(num_users)-yrs_ago-1]\n",
        "    return growth\n",
        "\n",
        "# Do not change: Variable for calculating some test examples\n",
        "num_users_test = [920344, 1043553, 1204334, 1458996, 1503323, 1593432, 1623463, 1843064, 1930992, 2001078]\n",
        "\n",
        "# Do not change: Should return .036\n",
        "print(percentage_growth(num_users_test, 1))\n",
        "\n",
        "# Do not change: Should return 0.66\n",
        "print(percentage_growth(num_users_test, 7))"
      ],
      "metadata": {
        "id": "mOuJeN0XfCdN"
      },
      "execution_count": null,
      "outputs": []
    },
    {
      "cell_type": "markdown",
      "source": [
        "Alice, Bob and Carol have agreed to pool their Halloween candy and split it evenly among themselves. For the sake of their friendship, any candies left over will be smashed. For example, if they collectively bring home 91 candies, they'll take 30 each and smash 1.\n",
        "\n",
        "Write an arithmetic expression below to calculate how many candies they must smash for a given haul."
      ],
      "metadata": {
        "id": "2-kobGYhD3YH"
      }
    },
    {
      "cell_type": "code",
      "source": [
        "alice_candies = 121\n",
        "bob_candies = 77\n",
        "carol_candies = 109\n",
        "\n",
        "\n",
        "to_smash = (alice_candies + bob_candies + carol_candies)/3\n",
        "print(to_smash)"
      ],
      "metadata": {
        "id": "dnBmDzpl2MYq"
      },
      "execution_count": null,
      "outputs": []
    },
    {
      "cell_type": "code",
      "source": [
        "def least_difference(a, b, c):\n",
        "    diff1 = abs(a - b)\n",
        "    diff2 = abs(b - c)\n",
        "    diff3 = abs(a - c)\n",
        "    return min(diff1, diff2, diff3)"
      ],
      "metadata": {
        "id": "RURcZIiX2MOy"
      },
      "execution_count": null,
      "outputs": []
    },
    {
      "cell_type": "code",
      "source": [
        "print(\n",
        "    least_difference(1, 10, 100),\n",
        "    least_difference(1, 10, 10),\n",
        "    least_difference(5, 6, 7), # Python allows trailing commas in argument lists. How nice is that?\n",
        ")"
      ],
      "metadata": {
        "id": "koEAWZ9mIwxK"
      },
      "execution_count": null,
      "outputs": []
    },
    {
      "cell_type": "code",
      "source": [
        "help(least_difference)\n"
      ],
      "metadata": {
        "id": "YbvCtklyIzQl"
      },
      "execution_count": null,
      "outputs": []
    },
    {
      "cell_type": "code",
      "source": [
        "def least_difference(a, b, c):\n",
        "    \"\"\"Return the smallest difference between any two numbers\n",
        "    among a, b and c.\n",
        "\n",
        "    >>> least_difference(1, 5, -5)\n",
        "    4\n",
        "    \"\"\"\n",
        "    diff1 = abs(a - b)\n",
        "    diff2 = abs(b - c)\n",
        "    diff3 = abs(a - c)\n",
        "    return min(diff1, diff2, diff3)"
      ],
      "metadata": {
        "id": "fzDe4pyuI3SV"
      },
      "execution_count": null,
      "outputs": []
    },
    {
      "cell_type": "code",
      "source": [
        "help(least_difference)"
      ],
      "metadata": {
        "id": "dxSCbO4qJBC6"
      },
      "execution_count": null,
      "outputs": []
    },
    {
      "cell_type": "code",
      "source": [
        "print(1, 2, 3, 4, sep='<')"
      ],
      "metadata": {
        "id": "mKR1E8xUJlsZ"
      },
      "execution_count": null,
      "outputs": []
    },
    {
      "cell_type": "code",
      "source": [
        "def mult_by_five(x):\n",
        "  return 5 * x\n",
        "\n",
        "def call (fn, arg):\n",
        "  \"\"\" call fn on arg \"\"\"\n",
        "  return fn(arg)\n",
        "def squared_call(fn, arg):\n",
        "  \"\"\" call fn on the result of calling fn on arg\"\"\"\n",
        "  return fn(fn(arg))\n",
        "\n",
        "print(\n",
        "    call(mult_by_five, 1),\n",
        "    squared_call(mult_by_five,1),\n",
        "    sep='\\n',\n",
        ")"
      ],
      "metadata": {
        "id": "2jBjlLwWKHSO"
      },
      "execution_count": null,
      "outputs": []
    },
    {
      "cell_type": "code",
      "source": [
        "def mod_5(x):\n",
        "  \"\"\" return the remainder of x after dividing by 5\"\"\"\n",
        "  return x % 5\n",
        "\n",
        "print(\n",
        "  'Which number is biggest?',\n",
        "  max(100, 50, 14),\n",
        "  'which number is the biggest modulo 5?',\n",
        "  max(100,51,14, key=mod_5),\n",
        "  sep='\\n',\n",
        "\n",
        "\n",
        ")"
      ],
      "metadata": {
        "id": "dCSTNIofO82a"
      },
      "execution_count": null,
      "outputs": []
    },
    {
      "cell_type": "code",
      "source": [
        "def inspect(x):\n",
        "  if x == 0:\n",
        "    print(x, \"is zero\")\n",
        "  elif x > 0 :\n",
        "    print(x, \"is positive\")\n",
        "  elif x < 0:\n",
        "    print(x, \"is negative\")\n",
        "  else:\n",
        "    print(x, \"isd unlike anyrhing I've ever seen...\")\n",
        "inspect(0)\n",
        "inspect(15)"
      ],
      "metadata": {
        "id": "yQD_NLPaQ1qk"
      },
      "execution_count": null,
      "outputs": []
    },
    {
      "cell_type": "code",
      "source": [
        "def f(x):\n",
        "    if x > 0:\n",
        "        print(\"Only printed when x is positive; x =\", x)\n",
        "        print(\"Also only printed when x is positive; x =\", x)\n",
        "    print(\"Always printed, regardless of x's value; x =\", x)\n",
        "\n",
        "f(1)\n",
        "f(0)"
      ],
      "metadata": {
        "id": "JzXI2AzDQ1-T"
      },
      "execution_count": null,
      "outputs": []
    },
    {
      "cell_type": "code",
      "source": [
        "def sign(x):\n",
        "  if x < 0:\n",
        "    print('negative')\n",
        "  elif x > 0:\n",
        "    print('positive')\n",
        "  else:\n",
        "    print('0')\n",
        "\n",
        "sign(5)\n",
        "sign(-5)\n",
        "sign(0)"
      ],
      "metadata": {
        "id": "MQR5MvQYQ2RE"
      },
      "execution_count": null,
      "outputs": []
    },
    {
      "cell_type": "code",
      "source": [],
      "metadata": {
        "id": "J5dNlGrXbaw-"
      },
      "execution_count": null,
      "outputs": []
    }
  ]
}