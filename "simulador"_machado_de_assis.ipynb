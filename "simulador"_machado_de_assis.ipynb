{
  "nbformat": 4,
  "nbformat_minor": 0,
  "metadata": {
    "colab": {
      "private_outputs": true,
      "provenance": [],
      "mount_file_id": "16BRUN6D6yKMhkoN6yG9GUH1uxSFQilNN",
      "authorship_tag": "ABX9TyOIMVFynQPEMylXS1vED+w+",
      "include_colab_link": true
    },
    "kernelspec": {
      "name": "python3",
      "display_name": "Python 3"
    },
    "language_info": {
      "name": "python"
    }
  },
  "cells": [
    {
      "cell_type": "markdown",
      "metadata": {
        "id": "view-in-github",
        "colab_type": "text"
      },
      "source": [
        "<a href=\"https://colab.research.google.com/github/carolineoliveira994/100-days-of-code-python/blob/main/%22simulador%22_machado_de_assis.ipynb\" target=\"_parent\"><img src=\"https://colab.research.google.com/assets/colab-badge.svg\" alt=\"Open In Colab\"/></a>"
      ]
    },
    {
      "cell_type": "code",
      "execution_count": null,
      "metadata": {
        "id": "nyN1vcBSN3VU"
      },
      "outputs": [],
      "source": [
        "import numpy as np\n",
        "from collections import Counter"
      ]
    },
    {
      "cell_type": "code",
      "source": [
        "contos_paths = ['/content/drive/MyDrive/Pos graduação /obras_machado_de_assis.csv']"
      ],
      "metadata": {
        "id": "3qWm3xu8N6vP"
      },
      "execution_count": null,
      "outputs": []
    },
    {
      "cell_type": "code",
      "source": [],
      "metadata": {
        "id": "gSLVRmxtZkJI"
      },
      "execution_count": null,
      "outputs": []
    },
    {
      "cell_type": "code",
      "source": [
        "lista_contos=[]\n",
        "for path in contos_paths:\n",
        "    conto=open(path, 'r') #abrindo arquivo\n",
        "    conto_string=conto.read() #lendo arquivo\n",
        "    conto_string=conto_string.replace('\\n', ' ') #substituindo as quebras de linha por espaços em branco\n",
        "    lista_contos.append(conto_string) #colocando cada conto como elemento de uma lista"
      ],
      "metadata": {
        "id": "k6Q9zanON7GQ"
      },
      "execution_count": null,
      "outputs": []
    },
    {
      "cell_type": "code",
      "source": [
        "len(lista_contos)\n"
      ],
      "metadata": {
        "id": "GTjykWCPYTu_"
      },
      "execution_count": null,
      "outputs": []
    },
    {
      "cell_type": "code",
      "source": [
        "textos=' '.join(lista_contos)"
      ],
      "metadata": {
        "id": "73zfXYhgYhCB"
      },
      "execution_count": null,
      "outputs": []
    },
    {
      "cell_type": "code",
      "source": [
        "len(textos)"
      ],
      "metadata": {
        "id": "xs781xoWYjwP"
      },
      "execution_count": null,
      "outputs": []
    },
    {
      "cell_type": "code",
      "source": [
        "#Tokenizando palavras:\n",
        "corpus=textos.split()\n",
        "#Verificando parte dos corpus:\n",
        "corpus[344:354]"
      ],
      "metadata": {
        "id": "aclpY0RTYo4W"
      },
      "execution_count": null,
      "outputs": []
    },
    {
      "cell_type": "markdown",
      "source": [
        "Criando gerador de texto\n",
        "Cadeia de Markov de 1ª ordem com seleção aleatória de palavras"
      ],
      "metadata": {
        "id": "3X8eou6kY0aW"
      }
    },
    {
      "cell_type": "code",
      "source": [
        "#Criando função para criar pares de palavras e suas sucessoras a partir de um texto:\n",
        "def criar_pares_1a_ordem(texto):\n",
        "  for i in range(len(texto)-1):\n",
        "    yield (texto[i], texto[i+1])"
      ],
      "metadata": {
        "id": "zwG5a7wXY4Ba"
      },
      "execution_count": null,
      "outputs": []
    },
    {
      "cell_type": "code",
      "source": [
        "#aplicando a função em um exemplo de texto:\n",
        "exemplo='O rato roeu a roupa'\n",
        "\n",
        "#tokenizando:\n",
        "exemplo=exemplo.split()\n",
        "pares_palavras=criar_pares_1a_ordem(exemplo)\n",
        "\n",
        "#checando\n",
        "pares_palavras\n"
      ],
      "metadata": {
        "id": "k2eHag1CdEON"
      },
      "execution_count": null,
      "outputs": []
    },
    {
      "cell_type": "code",
      "source": [
        "#checando o objeto gerado:\n",
        "for par in pares_palavras:\n",
        "  print(par)"
      ],
      "metadata": {
        "id": "I-hwQ_n4egv-"
      },
      "execution_count": null,
      "outputs": []
    },
    {
      "cell_type": "code",
      "source": [
        "#aplicando a função no corpus:\n",
        "pares_palavras=criar_pares_1a_ordem(corpus)\n",
        "\n",
        "#checando\n",
        "pares_palavras"
      ],
      "metadata": {
        "id": "n8odsnFrerMp"
      },
      "execution_count": null,
      "outputs": []
    },
    {
      "cell_type": "code",
      "source": [
        "#Criando dicionário vazio onde será armazenada cada palavra única do corpus\n",
        "#como chaves e o valor de cada palavra/bigrama será uma lista das palavras\n",
        "#que sucedem a palavra/chave:\n",
        "\n",
        "dicionario={}"
      ],
      "metadata": {
        "id": "8z9VyDWhm5Ld"
      },
      "execution_count": null,
      "outputs": []
    },
    {
      "cell_type": "code",
      "source": [
        "#populando o dicionário\n",
        "for palavra1, palavra2 in pares_palavras:\n",
        "  if palavra1 in dicionario.keys():\n",
        "    dicionario[palavra1].append(palavra2)\n",
        "  else:\n",
        "    dicionario[palavra1]=[palavra2]"
      ],
      "metadata": {
        "id": "Ean5Dfe6fcM7"
      },
      "execution_count": null,
      "outputs": []
    },
    {
      "cell_type": "code",
      "source": [
        "dicionario['idade']"
      ],
      "metadata": {
        "id": "map_Xl_nnHF4"
      },
      "execution_count": null,
      "outputs": []
    },
    {
      "cell_type": "code",
      "source": [
        "#Defininindo manualmente a primeira palavra da cadeia\n",
        "\n",
        "primeira_palavra=\"Meireles\"\n",
        "\n"
      ],
      "metadata": {
        "id": "93yEm9kdnSSw"
      },
      "execution_count": null,
      "outputs": []
    },
    {
      "cell_type": "code",
      "source": [
        "#criando a lista onde serão adicionadas as palavras:\n",
        "\n",
        "cadeia_markov=[primeira_palavra]\n",
        "\n",
        "#verificando\n",
        "\n",
        "cadeia_markov"
      ],
      "metadata": {
        "id": "N6S3sBRsnykQ"
      },
      "execution_count": null,
      "outputs": []
    },
    {
      "cell_type": "code",
      "source": [
        "#definindo número de palavras que serão geradas:\n",
        "\n",
        "numero_palavras=500\n",
        "\n",
        "#por 'numero_palavra' vezes escolher aleatoriamente uma palavra contida nalista de palavras sucessoras\n",
        "#da ultima palavra adiconada aoa texto gerado e adiciona-la a cadeia:\n",
        "\n",
        "for i in range(numero_palavras):\n",
        "  cadeia_markov.append(np.random.choice(dicionario[cadeia_markov[-1]]))"
      ],
      "metadata": {
        "id": "JvjCdFBeoBLU"
      },
      "execution_count": null,
      "outputs": []
    },
    {
      "cell_type": "code",
      "source": [
        "#unindo o texto gerado em uma unica string\n",
        "\" \".join(cadeia_markov)"
      ],
      "metadata": {
        "id": "ciD_xe8MpKgh"
      },
      "execution_count": null,
      "outputs": []
    },
    {
      "cell_type": "code",
      "source": [],
      "metadata": {
        "id": "o9NBj2eVpyoJ"
      },
      "execution_count": null,
      "outputs": []
    },
    {
      "cell_type": "markdown",
      "source": [
        "# Cadeia de Markov de 1ª ordem com seleção de palavras baseada em frequência¶"
      ],
      "metadata": {
        "id": "BvMqWpSVp4Qb"
      }
    },
    {
      "cell_type": "code",
      "source": [
        "#A função counter transforma elementos repetidos em dicionarios onde as chaves sao os elem,entos unicos\n",
        "#(palavras) e os valores sao o numero de ocrrencia de cada elemento (palavra)|:\n",
        "\n",
        "lista=['azul', 'azul', 'azul', 'azul', 'vermelho', 'amarelo', 'amarelo', 'roxo', 'lilás',\n",
        "      'verde', 'verde', 'verde']\n",
        "dic=Counter(lista)\n",
        "dic=dict(dic)\n",
        "\n",
        "#verificando:\n",
        "dic"
      ],
      "metadata": {
        "id": "wQe6DlnNp6y0"
      },
      "execution_count": null,
      "outputs": []
    },
    {
      "cell_type": "code",
      "source": [
        "#Testando método para identificar chave (palavra) associada ao maior valor em um dicionário:\n",
        "#max(dic, key=lambda key: dic[key])\n"
      ],
      "metadata": {
        "id": "feqk-jezrOvK"
      },
      "execution_count": null,
      "outputs": []
    },
    {
      "cell_type": "code",
      "source": [
        "#verificando itens:\n",
        "dic.items()"
      ],
      "metadata": {
        "id": "g6lht_YTrWLe"
      },
      "execution_count": null,
      "outputs": []
    },
    {
      "cell_type": "code",
      "source": [
        "#colocando as tuplas contidas em dic.items() na ordem (valor, chave) e ordenando-as por valores descrescentes:\n",
        "lista=sorted(((valor, chave) for (chave, valor) in dic.items()), reverse=True)\n",
        "\n",
        "#check\n",
        "lista"
      ],
      "metadata": {
        "id": "0YTbcOmtrbCr"
      },
      "execution_count": null,
      "outputs": []
    },
    {
      "cell_type": "code",
      "source": [
        "#selecionando palavras mais frequente:\n",
        "palavra_mais_frequente=lista[0][1]\n",
        "\n",
        "#check\n",
        "\n",
        "palavra_mais_frequente"
      ],
      "metadata": {
        "id": "CfY7CKoasENt"
      },
      "execution_count": null,
      "outputs": []
    },
    {
      "cell_type": "code",
      "source": [
        "#crioajndo dicionario vazio onde sera armazenada casa palvrta uncia do corpus como hcvaes e valor de cada\n",
        "#chave/palavra sera uma lista das palavras que sucedem a palavra/chave:\n",
        "\n",
        "dicionario={}"
      ],
      "metadata": {
        "id": "8Cp5qZdqsZpB"
      },
      "execution_count": null,
      "outputs": []
    },
    {
      "cell_type": "code",
      "source": [
        "#criando pares de palavras:\n",
        "pares_palavras=criar_pares_1a_ordem(corpus)\n",
        "\n",
        "#check\n",
        "\n",
        "pares_palavras"
      ],
      "metadata": {
        "id": "Pn3fB5K-s-vd"
      },
      "execution_count": null,
      "outputs": []
    },
    {
      "cell_type": "code",
      "source": [
        "#populando o dicionario:\n",
        "for palavra1, palavra2 in pares_palavras:\n",
        "  if palavra1 in dicionario.keys():\n",
        "    dicionario[palavra1].append(palavra2)\n",
        "  else:\n",
        "    dicionario[palavra1]=[palavra2]"
      ],
      "metadata": {
        "id": "ZzxZlXN7tXFY"
      },
      "execution_count": null,
      "outputs": []
    },
    {
      "cell_type": "code",
      "source": [
        "#verificando valores do dicionario para a palavra 'idade':\n",
        "dicionario['idade']"
      ],
      "metadata": {
        "id": "TQHFhsaKt-2p"
      },
      "execution_count": null,
      "outputs": []
    },
    {
      "cell_type": "code",
      "source": [
        "#colocando a tuplas contidas em dicionario[palavra].items() na ordem (valor, chave) e ordenando-as por valores descrescente:\n",
        "for palavra in dicionario.keys():\n",
        "  dicionario[palavra]=dict(Counter(dicionario[palavra]))"
      ],
      "metadata": {
        "id": "uKeSUCXbzm7_"
      },
      "execution_count": null,
      "outputs": []
    },
    {
      "cell_type": "code",
      "source": [
        "dicionario['idade']"
      ],
      "metadata": {
        "id": "zTezeeVH0nCo"
      },
      "execution_count": null,
      "outputs": []
    },
    {
      "cell_type": "code",
      "source": [
        "for palavra in dicionario.keys():\n",
        "#colocando as tuplas contidas em dicionario[palavra].items() na ordem (valor, chave) e ordenando-as por valores descrescentes:\n",
        "\n",
        "  dicionario[palavra]=sorted(((valor, chave) for (chave, valor) in dicionario[palavra].items()), reverse=True)"
      ],
      "metadata": {
        "id": "SiE9XmsLaNrE"
      },
      "execution_count": null,
      "outputs": []
    },
    {
      "cell_type": "code",
      "source": [
        "dicionario['idade']"
      ],
      "metadata": {
        "id": "4H0Wgu8zaNnM"
      },
      "execution_count": null,
      "outputs": []
    },
    {
      "cell_type": "code",
      "source": [
        "# definindo manualmente a primera palavra da cadeia:\n",
        "primeira_palavra='Meireles'\n",
        "\n",
        "cadeia_markov=[primeira_palavra]\n",
        "\n",
        "numero_palavras=300\n",
        "\n",
        "for i in range(numero_palavras):\n",
        "  cadeia_markov.append(np.random.choice([dicionario[cadeia_markov[-1]][i][1] for i in range(3)]))\n",
        "\n",
        "\" \".join(cadeia_markov)"
      ],
      "metadata": {
        "id": "5ZJpBTGKlJIF"
      },
      "execution_count": null,
      "outputs": []
    },
    {
      "cell_type": "markdown",
      "source": [
        "# Cadeia de Markov de 2ª ordem com seleção aleatória de palavras\n"
      ],
      "metadata": {
        "id": "pEY0M8bsHLjT"
      }
    },
    {
      "cell_type": "code",
      "source": [
        "# criando função para criar pares de bigramas e suas palavras sucessoras a partir de um texto:\n",
        "def criar_pares_2a_ordem(texto):\n",
        "  for i in range(len(texto)-2):\n",
        "    yield(' '.join([texto[i], texto[i+1]]), texto[i+2])\n",
        ""
      ],
      "metadata": {
        "id": "WNr5Yc52lVaQ"
      },
      "execution_count": null,
      "outputs": []
    },
    {
      "cell_type": "code",
      "source": [
        "#aplicando funcao ao exemplo\n",
        "exemplo='o rato roeu a roupa'\n",
        "\n",
        "#tokenizando:\n",
        "\n",
        "exemplo=exemplo.split()\n",
        "pares=criar_pares_2a_ordem(exemplo)\n",
        "\n",
        "#checando\n",
        "pares"
      ],
      "metadata": {
        "id": "uNst4nj7Q9Vi"
      },
      "execution_count": null,
      "outputs": []
    },
    {
      "cell_type": "code",
      "source": [
        "#checando objeto gerado\n",
        "\n",
        "for par in pares:\n",
        "  print(par)"
      ],
      "metadata": {
        "id": "zOw63H6BRREt"
      },
      "execution_count": null,
      "outputs": []
    },
    {
      "cell_type": "code",
      "source": [
        "#aplicando funcao no corpus\n",
        "\n",
        "pares=criar_pares_2a_ordem(corpus)\n",
        "\n",
        "#checando:\n",
        "pares"
      ],
      "metadata": {
        "id": "RBLPBnlwRYHv"
      },
      "execution_count": null,
      "outputs": []
    },
    {
      "cell_type": "code",
      "source": [
        "#criando dicionario vazio\n",
        "\n",
        "dicionario={}\n"
      ],
      "metadata": {
        "id": "hyrwgioJRk3v"
      },
      "execution_count": null,
      "outputs": []
    },
    {
      "cell_type": "code",
      "source": [
        "for bigrama, palavra_sucessora in pares:\n",
        "  if bigrama in dicionario.keys():\n",
        "    dicionario[bigrama].append(palavra_sucessora)\n",
        "  else:\n",
        "    dicionario[bigrama]=[palavra_sucessora]"
      ],
      "metadata": {
        "id": "JM88rQ3xRsgT"
      },
      "execution_count": null,
      "outputs": []
    },
    {
      "cell_type": "code",
      "source": [
        "dicionario['idade de']"
      ],
      "metadata": {
        "id": "E6ef7u19SQxI"
      },
      "execution_count": null,
      "outputs": []
    },
    {
      "cell_type": "code",
      "source": [
        "while primeiro_bigrama.islower():\n",
        "  primeiro_bigrama=np.random.choice(list(dicionario.keys()))"
      ],
      "metadata": {
        "id": "uJfA0TxwSdqJ"
      },
      "execution_count": null,
      "outputs": []
    },
    {
      "cell_type": "code",
      "source": [
        "#criando lista onde serao adicionadas as palavras:\n",
        "cadeia_markov=[primeiro_bigrama]\n",
        "\n",
        "#verificando\n",
        "cadeia_markov"
      ],
      "metadata": {
        "id": "AnqXfmD6SnkY"
      },
      "execution_count": null,
      "outputs": []
    },
    {
      "cell_type": "code",
      "source": [
        "#Definindo número de termos que serão gerados:\n",
        "numero_termos=300\n",
        "\n",
        "#Por 'numero_termos' vezes escolher aleatoriamente uma palavra contida na lista\n",
        "#de palavras sucessoras do último termo da cadeia e adicioná-la à cadeia:\n",
        "for i in range(numero_termos):\n",
        "    if i==0: #o último termo da cadeia é o primeiro bigrama adicionado (cadeia_markov[0])\n",
        "        cadeia_markov.append(np.random.choice(dicionario[cadeia_markov[0]]))\n",
        "    else:\n",
        "        #Para i>0, o último termo da cadeia é uma palavra, e não um bigrama.\n",
        "        #Logo, é preciso decompor o penúltimo termo (cadeia_markov[-2]), que é um\n",
        "        #bigrama, e pegar seu último elemento para uni-lo com o último termo da cadeia (cadeia_markov[-1])\n",
        "        #e formar o bigrama que será utilizado para fazer a busca no dicionário pelas possíveis palavras sucessoras.\n",
        "        ultimo_bigrama_split=cadeia_markov[-2].split()\n",
        "        bigrama_atual=[ultimo_bigrama_split[-1], cadeia_markov[-1]]\n",
        "        bigrama_atual=' '.join(bigrama_atual)\n",
        "        cadeia_markov.append(np.random.choice(dicionario[bigrama_atual]))"
      ],
      "metadata": {
        "id": "PEmCJpaCWqcx"
      },
      "execution_count": null,
      "outputs": []
    },
    {
      "cell_type": "code",
      "source": [
        "#definindo numero de termos que serao gerados:\n",
        "numero_termos=300\n",
        "\n",
        "#por 'numero_termos' vezes escolher aleatoriamente uma palavra contida na lista\n",
        "#de palavras sucessoras do ultimo termo da cadeia e adicona-la a cadeia:\n",
        "#para i >0, o ultimo termo da cadeia e uma palavra, e nao um biagrama\n",
        "#logo, é preciso decompor o penultimo termo (cadeia_markov[2]), que é um bigara\n",
        "# e epgar seu ultimo elemento para uni-lo com o ulyimo termo da cadeia (cadeira_markov[-1])\n",
        "# e form,a o bigrama que será utilizado para fazer a busca no dicionario pelas possiveis palavras sucessoras\n",
        "\n",
        " #o ultimo termo da cadeia é oprimeiro bigrama adicionado (cadeia_marvok[0])\n",
        "for i in range(numero_termos):\n",
        "  if i==0:\n",
        "    cadeia_markov.append(np.random.choice(dicionario[cadeia_markov[0]]))\n",
        "  else:\n",
        "    ultimo_bigrama_split=cadeia_markov[-2].split()\n",
        "    bigrama_atual=[ultimo_bigrama_split[-1], cadeia_markov[-1]]\n",
        "    bigrama_atual=' '.join(bigrama_atual)\n",
        "    cadeia_markov.append(np.random.choice(dicionario[bigrama_atual]))"
      ],
      "metadata": {
        "id": "X5Vp7bOsSyAK"
      },
      "execution_count": null,
      "outputs": []
    },
    {
      "cell_type": "code",
      "source": [
        "\"  \".join(cadeia_markov)"
      ],
      "metadata": {
        "id": "zLJXzCysVgH0"
      },
      "execution_count": null,
      "outputs": []
    },
    {
      "cell_type": "markdown",
      "source": [
        "# Cadeia de Markov de 2ª ordem com seleção de palavras baseada em frequência"
      ],
      "metadata": {
        "id": "OZ3SfdauizjY"
      }
    },
    {
      "cell_type": "code",
      "source": [
        "#aplicando a funcao 'Counter' à variavel 'dicionario' criada anteriormente:\n",
        "for bigrama in dicionario.keys():\n",
        "  dicionario[bigrama]=dict(Counter(dicionario[bigrama]))"
      ],
      "metadata": {
        "id": "lrIpSBTci0SN"
      },
      "execution_count": null,
      "outputs": []
    },
    {
      "cell_type": "code",
      "source": [
        "#verificando:\n",
        "dicionario['o chapéu']"
      ],
      "metadata": {
        "id": "8h-P2vPbjJjt"
      },
      "execution_count": null,
      "outputs": []
    },
    {
      "cell_type": "code",
      "source": [
        "for palavra in dicionario.keys():\n",
        "  #colocando as tuplas contidas em dicionarios[palavras].items() na ordem (valor, chave) e ordenando por valores\n",
        "  # descrecentes\n",
        "  dicionario[palavra]=sorted(((valor, chave) for (chave, valor) in dicionario[palavra].items()), reverse=True)"
      ],
      "metadata": {
        "id": "jHv9C8R0jSpT"
      },
      "execution_count": null,
      "outputs": []
    },
    {
      "cell_type": "code",
      "source": [
        "#check\n",
        "dicionario['o chapéu']"
      ],
      "metadata": {
        "id": "jjB01WDpj7qa"
      },
      "execution_count": null,
      "outputs": []
    },
    {
      "cell_type": "code",
      "source": [
        "#Escolhendo aleatoriamente primeiro bigrama do texto gerado:\n",
        "#primeiro_bigrama=np.random.choice(list(dicionario.keys()))\n",
        "\n",
        "#Enquanto o bigrama escolhido não começar com maiúscula, escolher novo bigrama:\n",
        "#while primeiro_bigrama.islower():\n",
        "    #primeiro_bigrama=np.random.choice(list(dicionario.keys()))\n",
        "\n",
        "#Definindo manualmente o primeiro bigrama da cadeia:\n",
        "primeiro_bigrama='Joana estava'\n",
        "\n",
        "#Criando lista onde serão adicionadas as palavras:\n",
        "cadeia_markov=[primeiro_bigrama]\n",
        "\n",
        "#Definindo número de termos que serão gerados:\n",
        "numero_termos=150\n",
        "\n",
        "\n",
        "#Por 'numero_termos' vezes escolher aleatoriamente uma entre as 3 palavras mais frequentes\n",
        "#contidas nas possibilidades de palavras sucessoras do último termo da cadeia e adicioná-la à cadeia:\n",
        "for i in range(numero_termos):\n",
        "    if i==0: #o último termo da cadeia é o primeiro bigrama adicionado (cadeia_markov[0])\n",
        "        cadeia_markov.append(np.random.choice([dicionario[cadeia_markov[0]][i][1] for i in range(len(dicionario[cadeia_markov[0]]))][:3]))\n",
        "        #cadeia_markov.append(dicionario[palavra][0][1]) #escolhe palavra mais frequente\n",
        "    else:\n",
        "        #Para i>0, o último termo da cadeia é uma palavra única, e não um bigrama.\n",
        "        #Logo, é preciso decompor o penúltimo termo (cadeia_markov[-2]), que é um\n",
        "        #bigrama, e pegar seu último elemento para uni-lo com o último termo (cadeia_markov[-1])\n",
        "        #e formar o bigrama que será utilizado para fazer a busca no dicionário pelas possíveis palavras sucessoras.\n",
        "        ultimo_bigrama_split=cadeia_markov[-2].split()\n",
        "        bigrama_atual=[ultimo_bigrama_split[-1], cadeia_markov[-1]]\n",
        "        bigrama_atual=' '.join(bigrama_atual)\n",
        "        cadeia_markov.append(np.random.choice([dicionario[bigrama_atual][i][1] for i in range(len(dicionario[bigrama_atual]))][:3]))\n",
        "        #cadeia_markov.append(dicionario[bigrama_atual][0][1]) #escolhe palavra mais frequente\n",
        "\n",
        "#Unindo o texto gerado em uma única string:\n",
        "\" \".join(cadeia_markov)"
      ],
      "metadata": {
        "id": "ec_Spa5ikDWS"
      },
      "execution_count": null,
      "outputs": []
    },
    {
      "cell_type": "code",
      "source": [],
      "metadata": {
        "id": "73lrvT809GcY"
      },
      "execution_count": null,
      "outputs": []
    }
  ]
}