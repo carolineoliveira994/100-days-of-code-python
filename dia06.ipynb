{
  "nbformat": 4,
  "nbformat_minor": 0,
  "metadata": {
    "colab": {
      "private_outputs": true,
      "provenance": [],
      "mount_file_id": "1UeK2RIyvY4X7N3iWoMz__LR5qXrP3yvJ",
      "authorship_tag": "ABX9TyN1hikIjN+uyg5N51Ht5/Vm",
      "include_colab_link": true
    },
    "kernelspec": {
      "name": "python3",
      "display_name": "Python 3"
    },
    "language_info": {
      "name": "python"
    }
  },
  "cells": [
    {
      "cell_type": "markdown",
      "metadata": {
        "id": "view-in-github",
        "colab_type": "text"
      },
      "source": [
        "<a href=\"https://colab.research.google.com/github/carolineoliveira994/100-days-of-code-python/blob/main/dia06.ipynb\" target=\"_parent\"><img src=\"https://colab.research.google.com/assets/colab-badge.svg\" alt=\"Open In Colab\"/></a>"
      ]
    },
    {
      "cell_type": "code",
      "execution_count": null,
      "metadata": {
        "id": "a1DJLNL6M1Wh"
      },
      "outputs": [],
      "source": [
        "import pandas as pd\n",
        "\n"
      ]
    },
    {
      "cell_type": "code",
      "source": [
        "fish_obesity_df = pd.read_csv('/content/drive/MyDrive/PUCtarefas/fish obesity.csv')\n",
        "fish_obesity_df.head()"
      ],
      "metadata": {
        "id": "j8wIHVOjRjFq"
      },
      "execution_count": null,
      "outputs": []
    },
    {
      "cell_type": "code",
      "source": [
        "labels = fish_obesity_df['Obese']\n",
        "\n",
        "features = []\n",
        "for i in range(len(fish_obesity_df['Weight'])):\n",
        "  features.append([fish_obesity_df['Weight'][i], fish_obesity_df['Height'][i]])"
      ],
      "metadata": {
        "id": "6bjunMmlR5XU"
      },
      "execution_count": null,
      "outputs": []
    },
    {
      "cell_type": "code",
      "source": [
        "fish_obesity_df.head(10)\n"
      ],
      "metadata": {
        "id": "FKqrIS9MT0BP"
      },
      "execution_count": null,
      "outputs": []
    },
    {
      "cell_type": "code",
      "source": [
        "from sklearn.model_selection import train_test_split\n",
        "\n",
        "X_train, X_test, y_train, y_test = train_test_split(features, labels, test_size=0.2, random_state=42)\n"
      ],
      "metadata": {
        "id": "u3CvsPQZVQy0"
      },
      "execution_count": null,
      "outputs": []
    },
    {
      "cell_type": "code",
      "source": [
        "from sklearn import svm\n",
        "from sklearn.datasets import make_classification\n",
        "from sklearn.model_selection import train_test_split\n",
        "from sklearn.metrics import accuracy_score\n",
        "\n",
        "\n",
        "# Crie um classificador SVM\n",
        "clf = svm.SVC(kernel='linear')\n",
        "\n",
        "# Treine o classificador\n",
        "clf.fit(X_train, y_train)\n",
        "\n",
        "# Faça previsões no conjunto de teste\n",
        "y_pred = clf.predict(X_test)\n",
        "\n",
        "# Calcule a acurácia\n",
        "accuracy = accuracy_score(y_test, y_pred)\n",
        "print(f'Acurácia: {accuracy}')\n"
      ],
      "metadata": {
        "id": "8WN9Di0qWr-W"
      },
      "execution_count": null,
      "outputs": []
    },
    {
      "cell_type": "code",
      "source": [
        "import numpy as np\n",
        "from matplotlib import pyplot as plt\n",
        "\n",
        "X = fish_obesity_df['Weight']\n",
        "y = np.array(fish_obesity_df['Height']).reshape(-1,1)\n",
        "label = fish_obesity_df['Obese']\n",
        "plt.figure(figsize=(20,10), dpi=120)\n",
        "\n",
        "plt.scatter(X, y, c=label, cmap='viridis')\n",
        "\n",
        "\n",
        "ax = plt.gca()\n",
        "xlim = ax.get_xlim()\n",
        "ylim = ax.get_ylim()\n",
        "\n",
        "xx = np.linspace(xlim[0], xlim[1], 30)\n",
        "yy = np.linspace(ylim[0], ylim[1], 30)\n",
        "YY, XX = np.meshgrid(yy, xx)\n",
        "xy = np.vstack([XX.ravel(), YY.ravel()]).T\n",
        "Z = clf.decision_function(xy).reshape(XX.shape)\n",
        "\n",
        "\n",
        "ax.contour(XX, YY, Z, colors='k', levels=[-1, 0, 1], alpha=0.5,\n",
        "           linestyles=['--', '-', '--'])\n",
        "\n",
        "plt.show()\n",
        "\n"
      ],
      "metadata": {
        "id": "lyvaY9HUXrIt"
      },
      "execution_count": null,
      "outputs": []
    },
    {
      "cell_type": "markdown",
      "source": [
        "O gráfico de dispersão mostra a distribuição dos dados de acordo com o peso e a altura, enquanto o gráfico de contorno mostra como o classificador SVM divide o espaço de características em regiões de decisão com diferentes rótulos de classe. Isso ajuda a visualizar como o SVM está fazendo as classificações com base nos atributos \"Weight\" e \"Height\"."
      ],
      "metadata": {
        "id": "2RORBNW0cZB5"
      }
    },
    {
      "cell_type": "code",
      "source": [
        "from sklearn.metrics import confusion_matrix\n",
        "import seaborn as sns\n",
        "import matplotlib.pyplot as plt\n",
        "\n",
        "# Calcula a matriz de confusão\n",
        "cm = confusion_matrix(y_test, y_pred)\n",
        "\n",
        "# Plota a matriz de confusão usando seaborn\n",
        "plt.figure(figsize=(8, 6))\n",
        "sns.heatmap(cm, annot=True, fmt=\"d\", cmap=\"Blues\", cbar=False)\n",
        "plt.xlabel(\"Predicted Labels\")\n",
        "plt.ylabel(\"True Labels\")\n",
        "plt.title(\"Confusion Matrix\")\n",
        "plt.show()\n"
      ],
      "metadata": {
        "id": "IUPBaJ1hcbRm"
      },
      "execution_count": null,
      "outputs": []
    }
  ]
}