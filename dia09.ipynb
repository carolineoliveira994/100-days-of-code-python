{
  "nbformat": 4,
  "nbformat_minor": 0,
  "metadata": {
    "colab": {
      "private_outputs": true,
      "provenance": [],
      "mount_file_id": "1nXgZjVZc-WOubkd0lCnOMdAIQyyuuK99",
      "authorship_tag": "ABX9TyNXAgrm6fQA8MViCBbF4YcE",
      "include_colab_link": true
    },
    "kernelspec": {
      "name": "python3",
      "display_name": "Python 3"
    },
    "language_info": {
      "name": "python"
    }
  },
  "cells": [
    {
      "cell_type": "markdown",
      "metadata": {
        "id": "view-in-github",
        "colab_type": "text"
      },
      "source": [
        "<a href=\"https://colab.research.google.com/github/carolineoliveira994/100-days-of-code-python/blob/main/dia09.ipynb\" target=\"_parent\"><img src=\"https://colab.research.google.com/assets/colab-badge.svg\" alt=\"Open In Colab\"/></a>"
      ]
    },
    {
      "cell_type": "code",
      "execution_count": null,
      "metadata": {
        "id": "vPEWQvXl6137"
      },
      "outputs": [],
      "source": [
        "import missingno as msno\n",
        "import pandas as pd\n",
        "import numpy as np\n",
        "import seaborn as sns\n",
        "import altair as alt\n",
        "import matplotlib.pyplot as plt"
      ]
    },
    {
      "cell_type": "code",
      "source": [
        "atletas = pd.read_csv(\"/content/drive/MyDrive/machine learn/athlete_events.csv\")"
      ],
      "metadata": {
        "id": "nG8Qeku47D4c"
      },
      "execution_count": null,
      "outputs": []
    },
    {
      "cell_type": "code",
      "source": [
        "noc = pd.read_csv('/content/drive/MyDrive/machine learn/noc_regions.csv')"
      ],
      "metadata": {
        "id": "H-hErNfh9Lzs"
      },
      "execution_count": null,
      "outputs": []
    },
    {
      "cell_type": "markdown",
      "source": [
        "Conhecendo a estrutura do conjunto de dados\n",
        "\n",
        "\n",
        "\n",
        "\n"
      ],
      "metadata": {
        "id": "eXC9QirF9U0B"
      }
    },
    {
      "cell_type": "code",
      "source": [
        "atletas.head()"
      ],
      "metadata": {
        "id": "EZf3Z3AH9Wu0"
      },
      "execution_count": null,
      "outputs": []
    },
    {
      "cell_type": "code",
      "source": [
        "noc.head()"
      ],
      "metadata": {
        "id": "4KdEcBcN9yTn"
      },
      "execution_count": null,
      "outputs": []
    },
    {
      "cell_type": "markdown",
      "source": [
        "Verificando missing data"
      ],
      "metadata": {
        "id": "uMyoSsD792i1"
      }
    },
    {
      "cell_type": "code",
      "source": [
        "atletas.isnull().sum()"
      ],
      "metadata": {
        "id": "tqkkAeme91Rk"
      },
      "execution_count": null,
      "outputs": []
    },
    {
      "cell_type": "code",
      "source": [
        "msno.bar(atletas)"
      ],
      "metadata": {
        "id": "VShj0Zmm-EVa"
      },
      "execution_count": null,
      "outputs": []
    },
    {
      "cell_type": "markdown",
      "source": [
        "## Estatísticas descritivas"
      ],
      "metadata": {
        "id": "CwJmCDW92AII"
      }
    },
    {
      "cell_type": "code",
      "source": [
        "atletas.describe()"
      ],
      "metadata": {
        "id": "_vbI4Vb4-HFi"
      },
      "execution_count": null,
      "outputs": []
    },
    {
      "cell_type": "code",
      "source": [
        "atletas[atletas['Age']==10]"
      ],
      "metadata": {
        "id": "y2uCYQF-2m6D"
      },
      "execution_count": null,
      "outputs": []
    },
    {
      "cell_type": "code",
      "source": [
        "noc.describe()"
      ],
      "metadata": {
        "id": "uT5fCEgL3Aub"
      },
      "execution_count": null,
      "outputs": []
    },
    {
      "cell_type": "code",
      "source": [
        "rio2016 = atletas[atletas['Year'] == 2016 ]"
      ],
      "metadata": {
        "id": "E_F3xgx93X1i"
      },
      "execution_count": null,
      "outputs": []
    },
    {
      "cell_type": "code",
      "source": [
        "rio2016.head()"
      ],
      "metadata": {
        "id": "RxUMK5lJ38bf"
      },
      "execution_count": null,
      "outputs": []
    },
    {
      "cell_type": "markdown",
      "source": [
        "## quantas medalhas?"
      ],
      "metadata": {
        "id": "i7LsnouE4Hum"
      }
    },
    {
      "cell_type": "code",
      "source": [
        "rio2016['Medal'].value_counts()"
      ],
      "metadata": {
        "id": "VgMs-RkQ4GOp"
      },
      "execution_count": null,
      "outputs": []
    },
    {
      "cell_type": "markdown",
      "source": [
        "### distribuição de medalhas por esporte"
      ],
      "metadata": {
        "id": "24iSGyxX9T5f"
      }
    },
    {
      "cell_type": "code",
      "source": [
        "rio2016[rio2016['Medal'].notnull()].groupby(['NOC', 'Sport', 'Medal'])[['Event']].nunique()"
      ],
      "metadata": {
        "id": "ARwH8QfW9MxI"
      },
      "execution_count": null,
      "outputs": []
    },
    {
      "cell_type": "code",
      "source": [
        "medalhas = atletas.groupby(['NOC', 'Event', 'Medal']).nunique().index"
      ],
      "metadata": {
        "id": "SzLrn-Jc_b-p"
      },
      "execution_count": null,
      "outputs": []
    },
    {
      "cell_type": "markdown",
      "source": [
        "é possível verificar que pais ganhou cada medalha por evento?"
      ],
      "metadata": {
        "id": "a3tRklDvAAbw"
      }
    },
    {
      "cell_type": "code",
      "source": [
        "medalhas = medalhas.to_frame()"
      ],
      "metadata": {
        "id": "DgPmPwVf__ne"
      },
      "execution_count": null,
      "outputs": []
    },
    {
      "cell_type": "code",
      "source": [
        "medalhas.head()"
      ],
      "metadata": {
        "id": "7XL1NTqT_1OR"
      },
      "execution_count": null,
      "outputs": []
    },
    {
      "cell_type": "code",
      "source": [
        "medalhas = medalhas.reset_index(drop=True)"
      ],
      "metadata": {
        "id": "zcx6Sg8NE6-Y"
      },
      "execution_count": null,
      "outputs": []
    },
    {
      "cell_type": "code",
      "source": [
        "medalhas.head()"
      ],
      "metadata": {
        "id": "h8AUiwT2G0Is"
      },
      "execution_count": null,
      "outputs": []
    },
    {
      "cell_type": "code",
      "source": [
        "medalhas.pivot_table(values='NOC', index='Event', columns='Medal', aggfunc='first'  )"
      ],
      "metadata": {
        "id": "XLMCjj8XG5wL"
      },
      "execution_count": null,
      "outputs": []
    },
    {
      "cell_type": "markdown",
      "source": [
        "investigar os vencedores"
      ],
      "metadata": {
        "id": "hJJFCDjeIRNz"
      }
    },
    {
      "cell_type": "code",
      "source": [
        "gold = atletas[atletas['Medal']== 'Gold'].copy()"
      ],
      "metadata": {
        "id": "SBsemHJaIQ73"
      },
      "execution_count": null,
      "outputs": []
    },
    {
      "cell_type": "code",
      "source": [
        "gold.head()"
      ],
      "metadata": {
        "id": "GVVt_12ZIptZ"
      },
      "execution_count": null,
      "outputs": []
    },
    {
      "cell_type": "code",
      "source": [
        "gold['Age'].hist()"
      ],
      "metadata": {
        "id": "0Zfodb49IyI3"
      },
      "execution_count": null,
      "outputs": []
    },
    {
      "cell_type": "code",
      "source": [
        "sns.distplot(gold['Age'], hist=True)"
      ],
      "metadata": {
        "id": "5lPwaWw9JIY9"
      },
      "execution_count": null,
      "outputs": []
    },
    {
      "cell_type": "markdown",
      "source": [
        "### padronização da idade"
      ],
      "metadata": {
        "id": "SepoMiFdKpMX"
      }
    },
    {
      "cell_type": "code",
      "source": [
        "from sklearn.preprocessing import StandardScaler"
      ],
      "metadata": {
        "id": "0sWNaNJqKop7"
      },
      "execution_count": null,
      "outputs": []
    },
    {
      "cell_type": "code",
      "source": [
        "sc = StandardScaler()"
      ],
      "metadata": {
        "id": "4K4HjTosK3rd"
      },
      "execution_count": null,
      "outputs": []
    },
    {
      "cell_type": "code",
      "source": [
        "std_age = sc.fit_transform(gold[['Age']])"
      ],
      "metadata": {
        "id": "AnPTcytjLCSN"
      },
      "execution_count": null,
      "outputs": []
    },
    {
      "cell_type": "code",
      "source": [
        "std_age"
      ],
      "metadata": {
        "id": "dUH-VFQ-LVkZ"
      },
      "execution_count": null,
      "outputs": []
    },
    {
      "cell_type": "code",
      "source": [
        "sns.distplot(std_age, hist=True)"
      ],
      "metadata": {
        "id": "h7o7b2hsLl9B"
      },
      "execution_count": null,
      "outputs": []
    },
    {
      "cell_type": "markdown",
      "source": [
        "## tratamento e ruídos/ discretização"
      ],
      "metadata": {
        "id": "TffwINHbMbPh"
      }
    },
    {
      "cell_type": "code",
      "source": [
        "gold['Age'].describe()"
      ],
      "metadata": {
        "id": "B_IfUfWuMXUj"
      },
      "execution_count": null,
      "outputs": []
    },
    {
      "cell_type": "code",
      "source": [
        "bins = pd.qcut(gold['Age'], 10)"
      ],
      "metadata": {
        "id": "g_4N_bkiMzmL"
      },
      "execution_count": null,
      "outputs": []
    },
    {
      "cell_type": "code",
      "source": [
        "grupos = gold['Age'].groupby(bins)"
      ],
      "metadata": {
        "id": "7S_ozPV5cqbJ"
      },
      "execution_count": null,
      "outputs": []
    },
    {
      "cell_type": "code",
      "source": [
        "medias = grupos.mean()"
      ],
      "metadata": {
        "id": "I9ZaSZV4dKa9"
      },
      "execution_count": null,
      "outputs": []
    },
    {
      "cell_type": "code",
      "source": [
        "new_age = bins.apply(lambda x : medias[x])"
      ],
      "metadata": {
        "id": "8gLx1FR3dPWI"
      },
      "execution_count": null,
      "outputs": []
    },
    {
      "cell_type": "code",
      "source": [
        "gold.loc[:, 'age_bin'] = new_age"
      ],
      "metadata": {
        "id": "zwmqctwEfnIK"
      },
      "execution_count": null,
      "outputs": []
    },
    {
      "cell_type": "code",
      "source": [
        "gold.head()"
      ],
      "metadata": {
        "id": "PX_xlx50fw4H"
      },
      "execution_count": null,
      "outputs": []
    },
    {
      "cell_type": "code",
      "source": [
        "sns.distplot(gold['age_bin'], hist=True)"
      ],
      "metadata": {
        "id": "w4lIXJmdf362"
      },
      "execution_count": null,
      "outputs": []
    },
    {
      "cell_type": "code",
      "source": [
        "alt.data_transformers.disable_max_rows()"
      ],
      "metadata": {
        "id": "DRiM6bmtghsM"
      },
      "execution_count": null,
      "outputs": []
    },
    {
      "cell_type": "code",
      "source": [
        "alt.Chart(gold).mark_bar().encode(\n",
        "    x = 'Age',\n",
        "    y = 'count()',\n",
        "    tooltip = ['Age', 'Sex', 'count()'],\n",
        "    color = alt.Color('Sex')\n",
        ").interactive()"
      ],
      "metadata": {
        "id": "eqKOeMD9hEav"
      },
      "execution_count": null,
      "outputs": []
    },
    {
      "cell_type": "code",
      "source": [
        "gold_50 = gold[gold['Age'] > 50]"
      ],
      "metadata": {
        "id": "5VbVcIJDiTro"
      },
      "execution_count": null,
      "outputs": []
    },
    {
      "cell_type": "code",
      "source": [
        "gold_50['Sport'].value_counts()"
      ],
      "metadata": {
        "id": "8gzAmmxeibuf"
      },
      "execution_count": null,
      "outputs": []
    },
    {
      "cell_type": "code",
      "source": [
        "plt.figure(figsize=(20,20))\n",
        "plt.tight_layout()\n",
        "sns.countplot(gold_50['Sport'])\n",
        "plt.title(' Gold Medals > 50 years')"
      ],
      "metadata": {
        "id": "hJCNiXMQiloC"
      },
      "execution_count": null,
      "outputs": []
    },
    {
      "cell_type": "code",
      "source": [],
      "metadata": {
        "id": "qPOP6L-CjlxZ"
      },
      "execution_count": null,
      "outputs": []
    }
  ]
}