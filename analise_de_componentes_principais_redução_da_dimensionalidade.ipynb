{
  "nbformat": 4,
  "nbformat_minor": 0,
  "metadata": {
    "colab": {
      "private_outputs": true,
      "provenance": [],
      "authorship_tag": "ABX9TyNinYfrRI+VfApYiIKf2DGy",
      "include_colab_link": true
    },
    "kernelspec": {
      "name": "python3",
      "display_name": "Python 3"
    },
    "language_info": {
      "name": "python"
    }
  },
  "cells": [
    {
      "cell_type": "markdown",
      "metadata": {
        "id": "view-in-github",
        "colab_type": "text"
      },
      "source": [
        "<a href=\"https://colab.research.google.com/github/carolineoliveira994/100-days-of-code-python/blob/main/analise_de_componentes_principais_redu%C3%A7%C3%A3o_da_dimensionalidade.ipynb\" target=\"_parent\"><img src=\"https://colab.research.google.com/assets/colab-badge.svg\" alt=\"Open In Colab\"/></a>"
      ]
    },
    {
      "cell_type": "code",
      "execution_count": null,
      "metadata": {
        "id": "eMq8lWPZf5dh"
      },
      "outputs": [],
      "source": [
        "import pandas as pd\n",
        "import numpy as np\n",
        "import matplotlib.pyplot as plt\n",
        "from sklearn.preprocessing import scale\n",
        "\n",
        "np.random.seed(42)"
      ]
    },
    {
      "cell_type": "code",
      "source": [
        "municipios = pd.read_csv('https://drive.google.com/uc?export=download&id=18jyOiEucdZxphxqL57iP4R66-0JdP_kU', sep=\";\")"
      ],
      "metadata": {
        "id": "h25BorDTgga3"
      },
      "execution_count": null,
      "outputs": []
    },
    {
      "cell_type": "code",
      "source": [
        "municipios.head()"
      ],
      "metadata": {
        "id": "K1xDpYErkax6"
      },
      "execution_count": null,
      "outputs": []
    },
    {
      "cell_type": "code",
      "source": [
        "from sklearn.decomposition import PCA"
      ],
      "metadata": {
        "id": "SDMYUVa9ogKi"
      },
      "execution_count": null,
      "outputs": []
    },
    {
      "cell_type": "code",
      "source": [
        "pca = PCA(random_state = 42)"
      ],
      "metadata": {
        "id": "dzVl5Fx3o9jA"
      },
      "execution_count": null,
      "outputs": []
    },
    {
      "cell_type": "code",
      "source": [
        "municipios_scaled = scale(municipios.drop(['prenatal'], axis=1))"
      ],
      "metadata": {
        "id": "zfJctU5LpGt2"
      },
      "execution_count": null,
      "outputs": []
    },
    {
      "cell_type": "code",
      "source": [
        "pd.DataFrame(municipios_scaled)"
      ],
      "metadata": {
        "id": "DePRKR0Ppnxd"
      },
      "execution_count": null,
      "outputs": []
    },
    {
      "cell_type": "code",
      "source": [
        "pca.fit(municipios_scaled)"
      ],
      "metadata": {
        "id": "ac3b9Slaqxvn"
      },
      "execution_count": null,
      "outputs": []
    },
    {
      "cell_type": "code",
      "source": [
        "print('Eigenvalues = ', pca.explained_variance_)"
      ],
      "metadata": {
        "id": "dlP8wK3SrKfO"
      },
      "execution_count": null,
      "outputs": []
    },
    {
      "cell_type": "code",
      "source": [
        "x = np.arange(pca.explained_variance_.shape[0]) + 1"
      ],
      "metadata": {
        "id": "h77vl5_DrmCD"
      },
      "execution_count": null,
      "outputs": []
    },
    {
      "cell_type": "code",
      "source": [
        "plt.plot(x , pca.explained_variance_)\n",
        "plt.axhline(1.0, color='black', linestyle='--', linewidth=2)\n",
        "plt.xlabel('Npumero de componetes')\n",
        "plt.ylabel('Variância')\n",
        "plt.plot()"
      ],
      "metadata": {
        "id": "lCHmDVp3r5dg"
      },
      "execution_count": null,
      "outputs": []
    },
    {
      "cell_type": "code",
      "source": [
        "plt.plot(x, np.cumsum(pca.explained_variance_ratio_))\n",
        "plt.axhline(1.0, color = 'black', linestyle = '--', linewidth = 2)\n",
        "plt.xlabel('numero de componentes')\n",
        "plt.ylabel('variância')\n",
        "plt.plot()"
      ],
      "metadata": {
        "id": "Zs_E4cMGteT8"
      },
      "execution_count": null,
      "outputs": []
    },
    {
      "cell_type": "code",
      "source": [
        "pca_fitted = PCA(n_components=2, random_state = 42)\n",
        "new_dataset = pd.DataFrame(pca_fitted.fit_transform(municipios_scaled))"
      ],
      "metadata": {
        "id": "ZZKql2pHw0hL"
      },
      "execution_count": null,
      "outputs": []
    },
    {
      "cell_type": "code",
      "source": [
        "new_dataset"
      ],
      "metadata": {
        "id": "xFZN0ul-0_e9"
      },
      "execution_count": null,
      "outputs": []
    },
    {
      "cell_type": "code",
      "source": [
        "pd.DataFrame(pca_fitted.components_.T * np.sqrt(pca_fitted.explained_variance_),\n",
        "             columns=['PC1', 'PC2'],\n",
        "             index=municipios.drop(['prenatal'], axis=1).columns.values)"
      ],
      "metadata": {
        "id": "7JZZktys1bsU"
      },
      "execution_count": null,
      "outputs": []
    },
    {
      "cell_type": "code",
      "source": [],
      "metadata": {
        "id": "5P47n3uA34-W"
      },
      "execution_count": null,
      "outputs": []
    }
  ]
}