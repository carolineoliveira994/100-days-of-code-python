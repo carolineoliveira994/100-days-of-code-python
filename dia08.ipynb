{
  "nbformat": 4,
  "nbformat_minor": 0,
  "metadata": {
    "colab": {
      "private_outputs": true,
      "provenance": [],
      "mount_file_id": "1Gbt7qVu8RECTj63soVjkdX4uaDmfsNAm",
      "authorship_tag": "ABX9TyPnl8nFMfB919A3Wd6VR0eI",
      "include_colab_link": true
    },
    "kernelspec": {
      "name": "python3",
      "display_name": "Python 3"
    },
    "language_info": {
      "name": "python"
    }
  },
  "cells": [
    {
      "cell_type": "markdown",
      "metadata": {
        "id": "view-in-github",
        "colab_type": "text"
      },
      "source": [
        "<a href=\"https://colab.research.google.com/github/carolineoliveira994/100-days-of-code-python/blob/main/dia08.ipynb\" target=\"_parent\"><img src=\"https://colab.research.google.com/assets/colab-badge.svg\" alt=\"Open In Colab\"/></a>"
      ]
    },
    {
      "cell_type": "code",
      "execution_count": null,
      "metadata": {
        "id": "Gsp0ErrDvSWe"
      },
      "outputs": [],
      "source": [
        "import missingno as msno\n",
        "import pandas as pd\n",
        "import numpy as np\n",
        "import seaborn as sns\n",
        "import altair as alt\n",
        "import matplotlib.pyplot as plt"
      ]
    },
    {
      "cell_type": "code",
      "source": [
        "!pip install --upgrade pandas\n"
      ],
      "metadata": {
        "id": "fuCGS39g4Xt6"
      },
      "execution_count": null,
      "outputs": []
    },
    {
      "cell_type": "code",
      "source": [
        "pip install --upgrade xlrd"
      ],
      "metadata": {
        "id": "BVX5AHR_4gb9"
      },
      "execution_count": null,
      "outputs": []
    },
    {
      "cell_type": "code",
      "source": [
        "excel_incidence = pd.read_excel('http://bit.ly/ds_vacina_incidence', sheet_name=None)"
      ],
      "metadata": {
        "id": "QAoMHsJt3Dww"
      },
      "execution_count": null,
      "outputs": []
    },
    {
      "cell_type": "code",
      "source": [
        "excel_incidence.keys()"
      ],
      "metadata": {
        "id": "gECSLcdn4xIS"
      },
      "execution_count": null,
      "outputs": []
    },
    {
      "cell_type": "code",
      "source": [
        "sheets = ['CRS', 'Diphtheria', 'JapEnc', 'Measles', 'Mumps', 'Ntetanus', 'Pertussis', 'Polio', 'Rubella', 'Ttetanus', 'Yfever']"
      ],
      "metadata": {
        "id": "WH8HWATN43IL"
      },
      "execution_count": null,
      "outputs": []
    },
    {
      "cell_type": "markdown",
      "source": [
        "## concatenação"
      ],
      "metadata": {
        "id": "hDMSbksI5JPQ"
      }
    },
    {
      "cell_type": "code",
      "source": [
        "df = pd.concat(pd.read_excel('http://bit.ly/ds_vacina_incidence', sheet_name=sheets), ignore_index=True)"
      ],
      "metadata": {
        "id": "YG4atXvx5FsL"
      },
      "execution_count": null,
      "outputs": []
    },
    {
      "cell_type": "code",
      "source": [
        "df.head()"
      ],
      "metadata": {
        "id": "7PiQ3-t95i7n"
      },
      "execution_count": null,
      "outputs": []
    },
    {
      "cell_type": "code",
      "source": [
        "df['Disease'].value_counts()"
      ],
      "metadata": {
        "id": "gbORlmzf5njc"
      },
      "execution_count": null,
      "outputs": []
    },
    {
      "cell_type": "code",
      "source": [
        "msno.matrix(df)"
      ],
      "metadata": {
        "id": "3ZEfEJqM5wNf"
      },
      "execution_count": null,
      "outputs": []
    },
    {
      "cell_type": "code",
      "source": [
        "sarampo = df[df['Disease'] == 'measles']"
      ],
      "metadata": {
        "id": "qGnmfstc6OpS"
      },
      "execution_count": null,
      "outputs": []
    },
    {
      "cell_type": "code",
      "source": [
        "sarampo.head()"
      ],
      "metadata": {
        "id": "tp9zKLLV6a_b"
      },
      "execution_count": null,
      "outputs": []
    },
    {
      "cell_type": "code",
      "source": [
        "sarampo_tidy = pd.melt(sarampo,\n",
        "                       id_vars=['WHO_REGION', 'ISO_code', 'Cname', 'Disease'],\n",
        "                       var_name = 'Ano',\n",
        "                       value_name='Qtd')"
      ],
      "metadata": {
        "id": "rrP9Tg__6oNq"
      },
      "execution_count": null,
      "outputs": []
    },
    {
      "cell_type": "code",
      "source": [
        "sarampo_tidy.head()"
      ],
      "metadata": {
        "id": "0GpktHVh8NMh"
      },
      "execution_count": null,
      "outputs": []
    },
    {
      "cell_type": "code",
      "source": [
        "total_sarampo = sarampo_tidy.groupby('Ano').sum()"
      ],
      "metadata": {
        "id": "WhgAoF8w8YKp"
      },
      "execution_count": null,
      "outputs": []
    },
    {
      "cell_type": "code",
      "source": [
        "total_sarampo.head()"
      ],
      "metadata": {
        "id": "peuNrSPN8iWQ"
      },
      "execution_count": null,
      "outputs": []
    },
    {
      "cell_type": "code",
      "source": [
        "total_sarampo = total_sarampo.reset_index()"
      ],
      "metadata": {
        "id": "DSs3KaWD8nnH"
      },
      "execution_count": null,
      "outputs": []
    },
    {
      "cell_type": "code",
      "source": [
        "total_sarampo.head()"
      ],
      "metadata": {
        "id": "70fYtVr68yDY"
      },
      "execution_count": null,
      "outputs": []
    },
    {
      "cell_type": "code",
      "source": [
        "alt.Chart(total_sarampo).mark_circle(color='rebeccapurple').encode(\n",
        "    x = 'Ano',\n",
        "    y = 'Qtd',\n",
        "    size = 'Qtd'\n",
        ")"
      ],
      "metadata": {
        "id": "n5FI567y84KS"
      },
      "execution_count": null,
      "outputs": []
    },
    {
      "cell_type": "code",
      "source": [
        "todas_tidy = pd.melt(df,\n",
        "                     ['WHO_REGION', 'ISO_code', 'Cname', 'Disease'],\n",
        "                     var_name = 'Ano',\n",
        "                     value_name = 'Qtd'\n",
        "\n",
        "                     )"
      ],
      "metadata": {
        "id": "Muc14nT199Pe"
      },
      "execution_count": null,
      "outputs": []
    },
    {
      "cell_type": "code",
      "source": [
        "totais_ano = todas_tidy.groupby(['Disease', 'Ano']).agg({'Qtd':'sum'})"
      ],
      "metadata": {
        "id": "hqH4VIVx-eyI"
      },
      "execution_count": null,
      "outputs": []
    },
    {
      "cell_type": "code",
      "source": [
        "totais_ano = totais_ano.reset_index()"
      ],
      "metadata": {
        "id": "jyS4t9LI_-Av"
      },
      "execution_count": null,
      "outputs": []
    },
    {
      "cell_type": "code",
      "source": [
        "totais_ano.head()"
      ],
      "metadata": {
        "id": "euJ0c-n0AEfX"
      },
      "execution_count": null,
      "outputs": []
    },
    {
      "cell_type": "code",
      "source": [
        "alt.Chart(totais_ano).mark_circle().encode(\n",
        "    x = 'Disease',\n",
        "    y = 'Ano',\n",
        "    tooltip=['Disease', 'Qtd', 'Ano'],\n",
        "    size = alt.Size('Qtd', scale=alt.Scale(range=[5,8000]), legend=None),\n",
        "    color = alt.Color('Disease')\n",
        ").configure_mark(opacity=0.5).properties(width=600).interactive()"
      ],
      "metadata": {
        "id": "6sjgym05CHGZ"
      },
      "execution_count": null,
      "outputs": []
    }
  ]
}